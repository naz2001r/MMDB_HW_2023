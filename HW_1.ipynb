{
 "cells": [
  {
   "cell_type": "markdown",
   "id": "be8fefbf",
   "metadata": {},
   "source": [
    "# Homework 1 (include all parts from challenge 1+optional, 2 and homework)\n",
    "Authors:\n",
    "- Nazarii Drushchak\n",
    "- Igor Babin\n",
    "- Uliana Zbezhkhovska"
   ]
  },
  {
   "cell_type": "code",
   "execution_count": 1,
   "id": "1d8db555-03c4-49cc-84be-497d6dc4f1f2",
   "metadata": {},
   "outputs": [
    {
     "name": "stdout",
     "output_type": "stream",
     "text": [
      "Collecting findspark\n",
      "  Downloading findspark-2.0.1-py2.py3-none-any.whl (4.4 kB)\n",
      "Installing collected packages: findspark\n",
      "Successfully installed findspark-2.0.1\n"
     ]
    }
   ],
   "source": [
    "!pip install findspark\n",
    "!pip install -q annoy\n",
    "!pip install -q joblib\n",
    "!pip install -q joblibspark"
   ]
  },
  {
   "cell_type": "code",
   "execution_count": 2,
   "id": "32012033-9003-4c00-96a6-006006f4d387",
   "metadata": {
    "ExecuteTime": {
     "end_time": "2023-10-20T07:03:40.396127Z",
     "start_time": "2023-10-20T07:03:40.144436Z"
    }
   },
   "outputs": [],
   "source": [
    "import findspark\n",
    "findspark.init()"
   ]
  },
  {
   "cell_type": "code",
   "execution_count": 38,
   "id": "db68f88c-6305-4e69-9e04-d483bb43a9e7",
   "metadata": {
    "ExecuteTime": {
     "end_time": "2023-10-20T08:23:49.571116Z",
     "start_time": "2023-10-20T08:23:49.570442Z"
    }
   },
   "outputs": [],
   "source": [
    "import pyspark\n",
    "import numpy as np\n",
    "from tqdm import tqdm\n",
    "\n",
    "from pyspark.sql import SparkSession\n",
    "from pyspark.ml.linalg import Vectors\n",
    "from pyspark.ml.feature import MinHashLSH\n",
    "from pyspark.sql.functions import col, avg, when\n",
    "from pyspark.ml.feature import HashingTF, IDF, Tokenizer, StopWordsRemover\n",
    "from pyspark.ml.feature import Word2Vec\n",
    "from annoy import AnnoyIndex\n",
    "from sklearn.neighbors import NearestNeighbors\n",
    "from pyspark.sql.functions import monotonically_increasing_id\n",
    "\n",
    "from joblib import Parallel\n",
    "from joblibspark import register_spark"
   ]
  },
  {
   "cell_type": "code",
   "execution_count": 4,
   "id": "ea159999-9445-4d0c-a2a9-8eb7eb700255",
   "metadata": {
    "ExecuteTime": {
     "end_time": "2023-10-20T08:21:37.892421Z",
     "start_time": "2023-10-20T08:21:37.820539Z"
    }
   },
   "outputs": [
    {
     "data": {
      "text/html": [
       "\n",
       "            <div>\n",
       "                <p><b>SparkSession - in-memory</b></p>\n",
       "                \n",
       "        <div>\n",
       "            <p><b>SparkContext</b></p>\n",
       "\n",
       "            <p><a href=\"http://41f8aac7523c:4040\">Spark UI</a></p>\n",
       "\n",
       "            <dl>\n",
       "              <dt>Version</dt>\n",
       "                <dd><code>v3.5.0</code></dd>\n",
       "              <dt>Master</dt>\n",
       "                <dd><code>local[*]</code></dd>\n",
       "              <dt>AppName</dt>\n",
       "                <dd><code>pyspark-shell</code></dd>\n",
       "            </dl>\n",
       "        </div>\n",
       "        \n",
       "            </div>\n",
       "        "
      ],
      "text/plain": [
       "<pyspark.sql.session.SparkSession at 0xffff5b1de410>"
      ]
     },
     "execution_count": 4,
     "metadata": {},
     "output_type": "execute_result"
    }
   ],
   "source": [
    "sc = pyspark.SparkContext('local[*]')\n",
    "spark = SparkSession(sc)\n",
    "spark"
   ]
  },
  {
   "cell_type": "markdown",
   "id": "1e49b5ac-b515-40f3-91a2-75180e325cb2",
   "metadata": {},
   "source": [
    "## Challenge I"
   ]
  },
  {
   "cell_type": "code",
   "execution_count": 5,
   "id": "ce3ecb16-2896-4a6a-9986-ca121098f0d6",
   "metadata": {
    "ExecuteTime": {
     "end_time": "2023-10-20T08:21:45.513585Z",
     "start_time": "2023-10-20T08:21:44.029081Z"
    }
   },
   "outputs": [
    {
     "name": "stdout",
     "output_type": "stream",
     "text": [
      "--2023-10-28 11:36:51--  http://data.insideairbnb.com/the-netherlands/north-holland/amsterdam/2023-09-03/visualisations/listings.csv\n",
      "Resolving data.insideairbnb.com (data.insideairbnb.com)... 16.182.106.29, 52.216.251.19, 52.217.45.147, ...\n",
      "Connecting to data.insideairbnb.com (data.insideairbnb.com)|16.182.106.29|:80... connected.\n",
      "HTTP request sent, awaiting response... 200 OK\n",
      "Length: 1698431 (1.6M) [application/csv]\n",
      "Saving to: ‘listings.csv’\n",
      "\n",
      "listings.csv        100%[===================>]   1.62M  1.69MB/s    in 1.0s    \n",
      "\n",
      "2023-10-28 11:36:52 (1.69 MB/s) - ‘listings.csv’ saved [1698431/1698431]\n",
      "\n"
     ]
    }
   ],
   "source": [
    "!wget http://data.insideairbnb.com/the-netherlands/north-holland/amsterdam/2023-09-03/visualisations/listings.csv"
   ]
  },
  {
   "cell_type": "code",
   "execution_count": 6,
   "id": "22130b8f-06df-436b-8db4-f8383622509b",
   "metadata": {
    "ExecuteTime": {
     "end_time": "2023-10-20T08:21:52.901663Z",
     "start_time": "2023-10-20T08:21:52.665613Z"
    }
   },
   "outputs": [
    {
     "name": "stdout",
     "output_type": "stream",
     "text": [
      "+------+--------------------+-------+---------+-------------------+-------------+--------+---------+---------------+-----+--------------+-----------------+-----------+-----------------+------------------------------+----------------+---------------------+--------------------+\n",
      "|    id|                name|host_id|host_name|neighbourhood_group|neighbourhood|latitude|longitude|      room_type|price|minimum_nights|number_of_reviews|last_review|reviews_per_month|calculated_host_listings_count|availability_365|number_of_reviews_ltm|             license|\n",
      "+------+--------------------+-------+---------+-------------------+-------------+--------+---------+---------------+-----+--------------+-----------------+-----------+-----------------+------------------------------+----------------+---------------------+--------------------+\n",
      "|761411|Condo in Amsterda...|4013546|   Xsjong|               NULL|   Noord-Oost|52.40164|  4.95106|   Private room|   61|             3|              303| 2023-08-19|             2.30|                             2|             272|                   26|0363 D4AD DCF3 E7...|\n",
      "|768274|Rental unit in Am...|3678216|    J & R|               NULL|   Westerpark|52.38855|  4.88521|Entire home/apt|  327|             3|               78| 2023-08-16|             0.64|                             1|              16|                    6|0363 7A50 18E7 51...|\n",
      "|768737|Boat in Amsterdam...|3877342|   Nicole|               NULL|   Westerpark|52.37824|  4.86826|   Private room|  109|             2|              341| 2023-08-24|             2.73|                             3|              29|                   43|036396BE30827DDB9575|\n",
      "|771217|Houseboat in Amst...|4068486| Danielle|               NULL|         Zuid|52.34091|  4.84802|Entire home/apt|  290|             3|               10| 2019-01-02|             0.11|                             1|               0|                    0|0363 D807 AD6C 49...|\n",
      "|771343|Rental unit in Am...|2313061|   Marcel|               NULL| Centrum-West|52.37641|  4.88303|   Private room|  150|             1|              699| 2023-09-01|             6.62|                             2|             196|                  110|0363 8C61 E9B9 55...|\n",
      "+------+--------------------+-------+---------+-------------------+-------------+--------+---------+---------------+-----+--------------+-----------------+-----------+-----------------+------------------------------+----------------+---------------------+--------------------+\n",
      "only showing top 5 rows\n",
      "\n"
     ]
    }
   ],
   "source": [
    "df = spark.read.csv(\"listings.csv\", header=True, multiLine=True)\n",
    "df.show(5)"
   ]
  },
  {
   "cell_type": "markdown",
   "id": "a5cdfa5a7e14a33a",
   "metadata": {
    "collapsed": false
   },
   "source": [
    "Tokenize (remove punctuation and split by word), you can do it in pure python or using ml-lib tokenizer"
   ]
  },
  {
   "cell_type": "code",
   "execution_count": 7,
   "id": "2f5e9808-b943-46a6-ad12-97102173f0ae",
   "metadata": {
    "ExecuteTime": {
     "end_time": "2023-10-20T08:23:12.031476Z",
     "start_time": "2023-10-20T08:23:11.929531Z"
    }
   },
   "outputs": [
    {
     "name": "stdout",
     "output_type": "stream",
     "text": [
      "+------+--------------------+-------+---------+-------------------+-------------+--------+---------+---------------+-----+--------------+-----------------+-----------+-----------------+------------------------------+----------------+---------------------+--------------------+--------------------+\n",
      "|    id|                name|host_id|host_name|neighbourhood_group|neighbourhood|latitude|longitude|      room_type|price|minimum_nights|number_of_reviews|last_review|reviews_per_month|calculated_host_listings_count|availability_365|number_of_reviews_ltm|             license|               words|\n",
      "+------+--------------------+-------+---------+-------------------+-------------+--------+---------+---------------+-----+--------------+-----------------+-----------+-----------------+------------------------------+----------------+---------------------+--------------------+--------------------+\n",
      "|761411|Condo in Amsterda...|4013546|   Xsjong|               NULL|   Noord-Oost|52.40164|  4.95106|   Private room|   61|             3|              303| 2023-08-19|             2.30|                             2|             272|                   26|0363 D4AD DCF3 E7...|[condo, in, amste...|\n",
      "|768274|Rental unit in Am...|3678216|    J & R|               NULL|   Westerpark|52.38855|  4.88521|Entire home/apt|  327|             3|               78| 2023-08-16|             0.64|                             1|              16|                    6|0363 7A50 18E7 51...|[rental, unit, in...|\n",
      "|768737|Boat in Amsterdam...|3877342|   Nicole|               NULL|   Westerpark|52.37824|  4.86826|   Private room|  109|             2|              341| 2023-08-24|             2.73|                             3|              29|                   43|036396BE30827DDB9575|[boat, in, amster...|\n",
      "|771217|Houseboat in Amst...|4068486| Danielle|               NULL|         Zuid|52.34091|  4.84802|Entire home/apt|  290|             3|               10| 2019-01-02|             0.11|                             1|               0|                    0|0363 D807 AD6C 49...|[houseboat, in, a...|\n",
      "|771343|Rental unit in Am...|2313061|   Marcel|               NULL| Centrum-West|52.37641|  4.88303|   Private room|  150|             1|              699| 2023-09-01|             6.62|                             2|             196|                  110|0363 8C61 E9B9 55...|[rental, unit, in...|\n",
      "+------+--------------------+-------+---------+-------------------+-------------+--------+---------+---------------+-----+--------------+-----------------+-----------+-----------------+------------------------------+----------------+---------------------+--------------------+--------------------+\n",
      "only showing top 5 rows\n",
      "\n"
     ]
    }
   ],
   "source": [
    "tokenizer = Tokenizer(inputCol=\"name\", outputCol=\"words\")\n",
    "wordData = tokenizer.transform(df)\n",
    "wordData.show(5)"
   ]
  },
  {
   "cell_type": "markdown",
   "id": "5aef81fe3a240a51",
   "metadata": {
    "collapsed": false
   },
   "source": [
    "Remove stopwords using ML-LIB stopwordsremover, and store in a new column called “CleanTokens”"
   ]
  },
  {
   "cell_type": "code",
   "execution_count": 8,
   "id": "cf87163b",
   "metadata": {
    "ExecuteTime": {
     "end_time": "2023-10-20T08:23:14.536838Z",
     "start_time": "2023-10-20T08:23:14.385962Z"
    }
   },
   "outputs": [
    {
     "name": "stdout",
     "output_type": "stream",
     "text": [
      "+------+--------------------+-------+---------+-------------------+-------------+--------+---------+---------------+-----+--------------+-----------------+-----------+-----------------+------------------------------+----------------+---------------------+--------------------+--------------------+--------------------+\n",
      "|    id|                name|host_id|host_name|neighbourhood_group|neighbourhood|latitude|longitude|      room_type|price|minimum_nights|number_of_reviews|last_review|reviews_per_month|calculated_host_listings_count|availability_365|number_of_reviews_ltm|             license|               words|         CleanTokens|\n",
      "+------+--------------------+-------+---------+-------------------+-------------+--------+---------+---------------+-----+--------------+-----------------+-----------+-----------------+------------------------------+----------------+---------------------+--------------------+--------------------+--------------------+\n",
      "|761411|Condo in Amsterda...|4013546|   Xsjong|               NULL|   Noord-Oost|52.40164|  4.95106|   Private room|   61|             3|              303| 2023-08-19|             2.30|                             2|             272|                   26|0363 D4AD DCF3 E7...|[condo, in, amste...|[condo, amsterdam...|\n",
      "|768274|Rental unit in Am...|3678216|    J & R|               NULL|   Westerpark|52.38855|  4.88521|Entire home/apt|  327|             3|               78| 2023-08-16|             0.64|                             1|              16|                    6|0363 7A50 18E7 51...|[rental, unit, in...|[rental, unit, am...|\n",
      "|768737|Boat in Amsterdam...|3877342|   Nicole|               NULL|   Westerpark|52.37824|  4.86826|   Private room|  109|             2|              341| 2023-08-24|             2.73|                             3|              29|                   43|036396BE30827DDB9575|[boat, in, amster...|[boat, amsterdam,...|\n",
      "|771217|Houseboat in Amst...|4068486| Danielle|               NULL|         Zuid|52.34091|  4.84802|Entire home/apt|  290|             3|               10| 2019-01-02|             0.11|                             1|               0|                    0|0363 D807 AD6C 49...|[houseboat, in, a...|[houseboat, amste...|\n",
      "|771343|Rental unit in Am...|2313061|   Marcel|               NULL| Centrum-West|52.37641|  4.88303|   Private room|  150|             1|              699| 2023-09-01|             6.62|                             2|             196|                  110|0363 8C61 E9B9 55...|[rental, unit, in...|[rental, unit, am...|\n",
      "+------+--------------------+-------+---------+-------------------+-------------+--------+---------+---------------+-----+--------------+-----------------+-----------+-----------------+------------------------------+----------------+---------------------+--------------------+--------------------+--------------------+\n",
      "only showing top 5 rows\n",
      "\n"
     ]
    }
   ],
   "source": [
    "remover = StopWordsRemover(inputCol=\"words\", outputCol=\"CleanTokens\")\n",
    "cleanData = remover.transform(wordData)\n",
    "cleanData.show(5)"
   ]
  },
  {
   "cell_type": "markdown",
   "id": "a07730f8022c5fef",
   "metadata": {
    "collapsed": false
   },
   "source": [
    "But we don’t have a stopwordsremover for all language and contexts. Create your own list of stopwords from this text (think: what is a stopword?) Remove stopwords again, and store in column “MyCleanTokens”"
   ]
  },
  {
   "cell_type": "code",
   "execution_count": 9,
   "id": "79088e10",
   "metadata": {
    "ExecuteTime": {
     "end_time": "2023-10-20T08:29:15.708713Z",
     "start_time": "2023-10-20T08:29:15.406575Z"
    }
   },
   "outputs": [
    {
     "name": "stdout",
     "output_type": "stream",
     "text": [
      "+------+--------------------+-------+---------+-------------------+-------------+--------+---------+---------------+-----+--------------+-----------------+-----------+-----------------+------------------------------+----------------+---------------------+--------------------+--------------------+--------------------+--------------------+\n",
      "|    id|                name|host_id|host_name|neighbourhood_group|neighbourhood|latitude|longitude|      room_type|price|minimum_nights|number_of_reviews|last_review|reviews_per_month|calculated_host_listings_count|availability_365|number_of_reviews_ltm|             license|               words|         CleanTokens|       MyCleanTokens|\n",
      "+------+--------------------+-------+---------+-------------------+-------------+--------+---------+---------------+-----+--------------+-----------------+-----------+-----------------+------------------------------+----------------+---------------------+--------------------+--------------------+--------------------+--------------------+\n",
      "|761411|Condo in Amsterda...|4013546|   Xsjong|               NULL|   Noord-Oost|52.40164|  4.95106|   Private room|   61|             3|              303| 2023-08-19|             2.30|                             2|             272|                   26|0363 D4AD DCF3 E7...|[condo, in, amste...|[condo, amsterdam...|[condo, amsterdam...|\n",
      "|768274|Rental unit in Am...|3678216|    J & R|               NULL|   Westerpark|52.38855|  4.88521|Entire home/apt|  327|             3|               78| 2023-08-16|             0.64|                             1|              16|                    6|0363 7A50 18E7 51...|[rental, unit, in...|[rental, unit, am...|[rental, unit, am...|\n",
      "|768737|Boat in Amsterdam...|3877342|   Nicole|               NULL|   Westerpark|52.37824|  4.86826|   Private room|  109|             2|              341| 2023-08-24|             2.73|                             3|              29|                   43|036396BE30827DDB9575|[boat, in, amster...|[boat, amsterdam,...|[boat, amsterdam,...|\n",
      "|771217|Houseboat in Amst...|4068486| Danielle|               NULL|         Zuid|52.34091|  4.84802|Entire home/apt|  290|             3|               10| 2019-01-02|             0.11|                             1|               0|                    0|0363 D807 AD6C 49...|[houseboat, in, a...|[houseboat, amste...|[houseboat, amste...|\n",
      "|771343|Rental unit in Am...|2313061|   Marcel|               NULL| Centrum-West|52.37641|  4.88303|   Private room|  150|             1|              699| 2023-09-01|             6.62|                             2|             196|                  110|0363 8C61 E9B9 55...|[rental, unit, in...|[rental, unit, am...|[rental, unit, am...|\n",
      "+------+--------------------+-------+---------+-------------------+-------------+--------+---------+---------------+-----+--------------+-----------------+-----------+-----------------+------------------------------+----------------+---------------------+--------------------+--------------------+--------------------+--------------------+\n",
      "only showing top 5 rows\n",
      "\n"
     ]
    }
   ],
   "source": [
    "stop_list = ['the', 'a', 'an', 'another', \"for\", \"an\", \"nor\", \"but\", \"or\", \"yet\", \"so\", \n",
    "                                      \"in\", \"under\", \"towards\", \"before\"]\n",
    "remover = StopWordsRemover(stopWords=stop_list, inputCol='words', outputCol='MyCleanTokens')\n",
    "cleanData = remover.transform(cleanData)\n",
    "cleanData.show(5)"
   ]
  },
  {
   "cell_type": "markdown",
   "id": "674bb82c3d6416fe",
   "metadata": {
    "collapsed": false
   },
   "source": [
    "Perform TFIDF in a new column called “VectorSpace”"
   ]
  },
  {
   "cell_type": "code",
   "execution_count": 10,
   "id": "ba62a4d0",
   "metadata": {
    "ExecuteTime": {
     "end_time": "2023-10-20T08:24:40.550139Z",
     "start_time": "2023-10-20T08:24:40.150720Z"
    }
   },
   "outputs": [
    {
     "name": "stdout",
     "output_type": "stream",
     "text": [
      "+--------------------+--------------------+\n",
      "|       MyCleanTokens|            features|\n",
      "+--------------------+--------------------+\n",
      "|[condo, amsterdam...|(20,[1,2,7,10,11,...|\n",
      "|[rental, unit, am...|(20,[1,2,5,11,12,...|\n",
      "|[boat, amsterdam,...|(20,[0,1,2,5,11,1...|\n",
      "|[houseboat, amste...|(20,[0,1,5,6,11,1...|\n",
      "|[rental, unit, am...|(20,[1,2,9,11,12,...|\n",
      "+--------------------+--------------------+\n",
      "only showing top 5 rows\n",
      "\n"
     ]
    }
   ],
   "source": [
    "hashingTF = HashingTF(inputCol=\"MyCleanTokens\", outputCol=\"VectorSpace\", numFeatures=20)\n",
    "featurizedData = hashingTF.transform(cleanData)\n",
    "\n",
    "idf = IDF(inputCol=\"VectorSpace\", outputCol=\"features\")\n",
    "idfModel = idf.fit(featurizedData)\n",
    "results = idfModel.transform(featurizedData)\n",
    "\n",
    "results.select(\"MyCleanTokens\", \"features\").show(5)"
   ]
  },
  {
   "cell_type": "markdown",
   "id": "31413af3",
   "metadata": {},
   "source": [
    "## Homework (Optional)"
   ]
  },
  {
   "cell_type": "markdown",
   "id": "80f1ffc194d6d238",
   "metadata": {
    "collapsed": false
   },
   "source": [
    "In a new column(‘word2vec’), repeat the procedure using word2vec instead of TF-IDF."
   ]
  },
  {
   "cell_type": "code",
   "execution_count": 11,
   "id": "79972b1b",
   "metadata": {
    "ExecuteTime": {
     "end_time": "2023-10-20T08:25:02.165384Z",
     "start_time": "2023-10-20T08:25:01.417880Z"
    }
   },
   "outputs": [
    {
     "name": "stdout",
     "output_type": "stream",
     "text": [
      "+--------------------+--------------------+\n",
      "|       MyCleanTokens|            word2vec|\n",
      "+--------------------+--------------------+\n",
      "|[condo, amsterdam...|[-0.0925399937799...|\n",
      "|[rental, unit, am...|[-0.2815365232527...|\n",
      "|[boat, amsterdam,...|[-0.1428595901681...|\n",
      "|[houseboat, amste...|[-0.4491232094856...|\n",
      "|[rental, unit, am...|[-0.1793470645944...|\n",
      "+--------------------+--------------------+\n",
      "only showing top 5 rows\n",
      "\n"
     ]
    }
   ],
   "source": [
    "word2Vec = Word2Vec(vectorSize=20, minCount=0, inputCol=\"MyCleanTokens\", outputCol=\"word2vec\")\n",
    "model = word2Vec.fit(results)\n",
    "result = model.transform(results)\n",
    "\n",
    "result.select(\"MyCleanTokens\", \"word2vec\").show(5)"
   ]
  },
  {
   "cell_type": "markdown",
   "id": "74a3ef727b8a4830",
   "metadata": {
    "collapsed": false
   },
   "source": [
    "Show first row word2vec vector"
   ]
  },
  {
   "cell_type": "code",
   "execution_count": 12,
   "id": "d77f3c33",
   "metadata": {
    "ExecuteTime": {
     "end_time": "2023-10-20T08:25:05.128521Z",
     "start_time": "2023-10-20T08:25:05.035056Z"
    }
   },
   "outputs": [
    {
     "data": {
      "text/plain": [
       "Row(word2vec=DenseVector([-0.0925, 0.1008, 0.4251, -0.2498, 0.2804, -0.1673, 0.123, 0.2466, -0.2948, -0.1483, -0.2474, -0.0043, -0.4474, 0.0884, 0.3136, 0.0642, -0.0431, -0.4975, 0.1821, 0.3358]))"
      ]
     },
     "execution_count": 12,
     "metadata": {},
     "output_type": "execute_result"
    }
   ],
   "source": [
    "result.select(\"word2vec\").first()"
   ]
  },
  {
   "cell_type": "markdown",
   "id": "5d31bd2a",
   "metadata": {},
   "source": [
    "## Challenge II"
   ]
  },
  {
   "cell_type": "markdown",
   "id": "3e6c6b7c23e348fe",
   "metadata": {
    "collapsed": false
   },
   "source": [
    "Take the first 500 flats in the list"
   ]
  },
  {
   "cell_type": "code",
   "execution_count": 13,
   "id": "49bba636",
   "metadata": {
    "ExecuteTime": {
     "end_time": "2023-10-20T08:25:11.667025Z",
     "start_time": "2023-10-20T08:25:11.553958Z"
    }
   },
   "outputs": [
    {
     "data": {
      "text/plain": [
       "500"
      ]
     },
     "execution_count": 13,
     "metadata": {},
     "output_type": "execute_result"
    }
   ],
   "source": [
    "mysample = result.limit(500)\n",
    "mysample.count()"
   ]
  },
  {
   "cell_type": "markdown",
   "id": "f0ee23fade3c14e2",
   "metadata": {
    "collapsed": false
   },
   "source": [
    "Find the 3 nearest neighbors for each element in that subset (candidates and query points are within the sample of 500) USING KNN"
   ]
  },
  {
   "cell_type": "code",
   "execution_count": 14,
   "id": "fc90bd14",
   "metadata": {
    "ExecuteTime": {
     "end_time": "2023-10-20T08:25:25.052643Z",
     "start_time": "2023-10-20T08:25:24.792974Z"
    }
   },
   "outputs": [
    {
     "name": "stdout",
     "output_type": "stream",
     "text": [
      "id ['761411', '634170', '721291', '730916']\n"
     ]
    }
   ],
   "source": [
    "mysample_pd = mysample.toPandas()\n",
    "tfidf = mysample_pd['features'].tolist()\n",
    "text = mysample_pd['name'].tolist()\n",
    "id_ = mysample_pd['id'].tolist()\n",
    "\n",
    "# fit nearest neighbors\n",
    "nbrs = NearestNeighbors(n_neighbors=4).fit(tfidf)\n",
    "distances, indices = nbrs.kneighbors(tfidf[:5])\n",
    "\n",
    "# show 3 nearest neighbors for first row except itself\n",
    "print('id', [id_[i] for i in indices[0]])"
   ]
  },
  {
   "cell_type": "markdown",
   "id": "cf4ebe3413ffdf4f",
   "metadata": {
    "collapsed": false
   },
   "source": [
    "Find the 3 nearest neighbors for each element in that subset (candidates and query points are within the sample of 500) USING LSH with sklearn"
   ]
  },
  {
   "cell_type": "code",
   "execution_count": 15,
   "id": "a759685f",
   "metadata": {
    "ExecuteTime": {
     "end_time": "2023-10-20T08:27:28.528327Z",
     "start_time": "2023-10-20T08:27:28.486075Z"
    }
   },
   "outputs": [
    {
     "name": "stdout",
     "output_type": "stream",
     "text": [
      "LSHForest could not be imported\n"
     ]
    }
   ],
   "source": [
    "# IT IS DEPRECATED or Install 3 years old version of sklearn 0.16.1\n",
    "try:\n",
    "    from sklearn.neighbors import LSHForest\n",
    "    \n",
    "    mysample_pd = mysample.toPandas()\n",
    "    tfidf = mysample_pd['features'].tolist()\n",
    "    text = mysample_pd['name'].tolist()\n",
    "    id_ = mysample_pd['id'].tolist()\n",
    "    \n",
    "    lshf = LSHForest(random_state=42)\n",
    "    lshf.fit(tfidf)\n",
    "    \n",
    "    # get the feature vectore of the first row\n",
    "    query = tfidf[0]\n",
    "    id_ = id_[0]\n",
    "    \n",
    "    # show 3 nearest neighbors for first row except itself\n",
    "    distances, indices = lshf.kneighbors([query], n_neighbors=4)\n",
    "    for i in range(1, len(distances[0])):\n",
    "        print(\"distance: \", distances[0][i], \"id: \", id_[indices[0][i]])\n",
    "except ImportError:\n",
    "    print(\"LSHForest could not be imported\")"
   ]
  },
  {
   "cell_type": "markdown",
   "id": "d3d86be2c0e2ce48",
   "metadata": {
    "collapsed": false
   },
   "source": [
    "Find the 3 nearest neighbors for each element in that subset (candidates and query points are within the sample of 500) USING LSH with pyspark"
   ]
  },
  {
   "cell_type": "code",
   "execution_count": 16,
   "id": "fb01e17c",
   "metadata": {
    "ExecuteTime": {
     "end_time": "2023-10-20T08:27:44.212585Z",
     "start_time": "2023-10-20T08:27:43.738409Z"
    }
   },
   "outputs": [
    {
     "name": "stdout",
     "output_type": "stream",
     "text": [
      "+-------+--------------------+-------+----------------+-------------------+-------------+--------+---------+---------------+-----+--------------+-----------------+-----------+-----------------+------------------------------+----------------+---------------------+--------------------+--------------------+--------------------+--------------------+--------------------+--------------------+--------------------+--------------------+------------------+\n",
      "|     id|                name|host_id|       host_name|neighbourhood_group|neighbourhood|latitude|longitude|      room_type|price|minimum_nights|number_of_reviews|last_review|reviews_per_month|calculated_host_listings_count|availability_365|number_of_reviews_ltm|             license|               words|         CleanTokens|       MyCleanTokens|         VectorSpace|            features|            word2vec|              hashes|           distCol|\n",
      "+-------+--------------------+-------+----------------+-------------------+-------------+--------+---------+---------------+-----+--------------+-----------------+-----------+-----------------+------------------------------+----------------+---------------------+--------------------+--------------------+--------------------+--------------------+--------------------+--------------------+--------------------+--------------------+------------------+\n",
      "|1447217|Condo in Amsterda...|7767867|Martijn & Betina|               NULL|Bos en Lommer|52.37591|   4.8479|   Private room|  110|             7|              290| 2023-08-06|             2.40|                             1|              62|                   19|0363 D931 EAD5 9D...|[condo, in, amste...|[condo, amsterdam...|[condo, amsterdam...|(20,[1,2,7,10,11,...|(20,[1,2,7,10,11,...|[-0.0833886542490...|[[5.7635465E7], [...|0.1428571428571429|\n",
      "|2175600|Loft in Amsterdam...|6630741|    Marie-Sophie|               NULL|         Zuid|52.35469|  4.85663|Entire home/apt|  190|             1|              115| 2023-07-09|             1.02|                             1|             233|                    6|0363 593F 238D 56...|[loft, in, amster...|[loft, amsterdam,...|[loft, amsterdam,...|(20,[1,2,7,10,11,...|(20,[1,2,7,10,11,...|[-0.1066447891868...|[[5.7635465E7], [...|0.1428571428571429|\n",
      "| 721291|Condo in Amsterda...|3723928|        Katarina|               NULL|   Westerpark|52.37752|  4.87086|   Private room|   79|             2|              209| 2023-08-12|             1.58|                             1|             165|                   10|0363 0457 C25F CA...|[condo, in, amste...|[condo, amsterdam...|[condo, amsterdam...|(20,[1,2,7,10,11,...|(20,[1,2,7,10,11,...|[-0.2334648019501...|[[5.7635465E7], [...|              0.25|\n",
      "+-------+--------------------+-------+----------------+-------------------+-------------+--------+---------+---------------+-----+--------------+-----------------+-----------+-----------------+------------------------------+----------------+---------------------+--------------------+--------------------+--------------------+--------------------+--------------------+--------------------+--------------------+--------------------+------------------+\n",
      "\n"
     ]
    }
   ],
   "source": [
    "mh = MinHashLSH(inputCol=\"features\", outputCol=\"hashes\", numHashTables=3)\n",
    "model = mh.fit(mysample)\n",
    "\n",
    "# get the feature vector of the first row\n",
    "key =  mysample.select(\"features\").take(1)[0].features\n",
    "id_ = mysample.select(\"id\").take(1)[0].id\n",
    "\n",
    "\n",
    "# show 3 nearest neighbors for first row except itself\n",
    "model.approxNearestNeighbors(mysample, key, 4).filter(col(\"id\") != id_).show()"
   ]
  },
  {
   "cell_type": "markdown",
   "id": "8f36b16b",
   "metadata": {},
   "source": [
    "## Challenge III: Homework\n",
    "\n",
    "![image.png](HW1_task.jpeg)"
   ]
  },
  {
   "cell_type": "markdown",
   "id": "21e2e8b670d448cf",
   "metadata": {
    "collapsed": false
   },
   "source": [
    "## Load Barcelona Airbnb data"
   ]
  },
  {
   "cell_type": "code",
   "execution_count": 17,
   "id": "ce81019dc53e84ea",
   "metadata": {
    "ExecuteTime": {
     "end_time": "2023-10-20T07:28:45.296006Z",
     "start_time": "2023-10-20T07:28:43.290347Z"
    },
    "collapsed": false
   },
   "outputs": [
    {
     "name": "stdout",
     "output_type": "stream",
     "text": [
      "--2023-10-28 11:37:07--  http://data.insideairbnb.com/spain/catalonia/barcelona/2023-09-06/visualisations/listings.csv\n",
      "Resolving data.insideairbnb.com (data.insideairbnb.com)... 54.231.199.253, 52.216.212.101, 52.217.81.187, ...\n",
      "Connecting to data.insideairbnb.com (data.insideairbnb.com)|54.231.199.253|:80... connected.\n",
      "HTTP request sent, awaiting response... 200 OK\n",
      "Length: 3664972 (3.5M) [application/csv]\n",
      "Saving to: ‘listings_barcelona.csv’\n",
      "\n",
      "listings_barcelona. 100%[===================>]   3.50M  2.73MB/s    in 1.3s    \n",
      "\n",
      "2023-10-28 11:37:08 (2.73 MB/s) - ‘listings_barcelona.csv’ saved [3664972/3664972]\n",
      "\n"
     ]
    }
   ],
   "source": [
    "!wget http://data.insideairbnb.com/spain/catalonia/barcelona/2023-09-06/visualisations/listings.csv -O listings_barcelona.csv "
   ]
  },
  {
   "cell_type": "code",
   "execution_count": 18,
   "id": "907808dc",
   "metadata": {
    "ExecuteTime": {
     "end_time": "2023-10-20T08:28:09.594431Z",
     "start_time": "2023-10-20T08:28:09.396075Z"
    }
   },
   "outputs": [
    {
     "name": "stdout",
     "output_type": "stream",
     "text": [
      "+------+--------------------+-------+----------------+-------------------+--------------------+-----------------+-----------------+---------------+-----+--------------+-----------------+-----------+-----------------+------------------------------+----------------+---------------------+-----------+\n",
      "|    id|                name|host_id|       host_name|neighbourhood_group|       neighbourhood|         latitude|        longitude|      room_type|price|minimum_nights|number_of_reviews|last_review|reviews_per_month|calculated_host_listings_count|availability_365|number_of_reviews_ltm|    license|\n",
      "+------+--------------------+-------+----------------+-------------------+--------------------+-----------------+-----------------+---------------+-----+--------------+-----------------+-----------+-----------------+------------------------------+----------------+---------------------+-----------+\n",
      "| 18674|Rental unit in Ba...|  71615|Mireia And Maria|           Eixample|  la Sagrada Família|         41.40556|          2.17262|Entire home/apt|  202|             1|               38| 2023-06-26|             0.30|                            30|              34|                    8|HUTB-002062|\n",
      "| 23197|Rental unit in Sa...|  90417|  Etain (Marnie)|         Sant Martí|el Besòs i el Mar...|41.41243172529066|2.219750335269476|Entire home/apt|  255|             3|               73| 2023-08-15|             0.48|                             2|             150|                   11| HUTB005057|\n",
      "| 32711|Rental unit in Ba...| 135703|            Nick|             Gràcia|el Camp d'en Gras...|         41.40566|          2.17015|Entire home/apt|  171|            21|               95| 2023-08-18|             0.64|                             3|             310|                   21|HUTB-001722|\n",
      "|171646|Rental unit in Ba...| 400154|          Mireia|         Sant Martí|             el Clot|         41.40671|          2.18592|Entire home/apt|  152|             3|               81| 2023-08-27|             0.65|                             9|              58|                   22|HUTB-004663|\n",
      "|171816|Rental unit in Ba...| 400154|          Mireia|         Sant Martí|             el Clot|         41.40681|          2.18553|Entire home/apt|  150|             3|               49| 2023-08-27|             0.39|                             9|              67|                   27|HUTB-004664|\n",
      "+------+--------------------+-------+----------------+-------------------+--------------------+-----------------+-----------------+---------------+-----+--------------+-----------------+-----------+-----------------+------------------------------+----------------+---------------------+-----------+\n",
      "only showing top 5 rows\n",
      "\n"
     ]
    }
   ],
   "source": [
    "df = spark.read.csv(\"listings_barcelona.csv\", header=True, multiLine=True)\n",
    "df.show(5)"
   ]
  },
  {
   "cell_type": "code",
   "execution_count": 19,
   "id": "ddc4c6582c6c6a88",
   "metadata": {
    "ExecuteTime": {
     "end_time": "2023-10-20T08:29:52.212589Z",
     "start_time": "2023-10-20T08:29:52.076927Z"
    },
    "collapsed": false
   },
   "outputs": [
    {
     "data": {
      "text/plain": [
       "18086"
      ]
     },
     "execution_count": 19,
     "metadata": {},
     "output_type": "execute_result"
    }
   ],
   "source": [
    "df.count()"
   ]
  },
  {
   "cell_type": "markdown",
   "id": "b04a13a5",
   "metadata": {},
   "source": [
    "## Load wikipedia data\n",
    "\n",
    "Load file from: https://pageviews.wmcloud.org/topviews/?project=uk.wikipedia.org&platform=all-access&date=2023-09&excludes= in CSV format"
   ]
  },
  {
   "cell_type": "code",
   "execution_count": 24,
   "id": "d0308f75",
   "metadata": {},
   "outputs": [
    {
     "name": "stdout",
     "output_type": "stream",
     "text": [
      "+--------------------+-----+-------+------+\n",
      "|                Page|Edits|Editors| Views|\n",
      "+--------------------+-----+-------+------+\n",
      "|Умєров Рустем Енв...|   54|     34|127352|\n",
      "|             Ukr.net|    2|      1| 97183|\n",
      "|             Україна|    8|      6| 94568|\n",
      "|Кадиров Рамзан Ах...|   15|      8| 86347|\n",
      "|    Нагірний Карабах|   32|     12| 79264|\n",
      "+--------------------+-----+-------+------+\n",
      "only showing top 5 rows\n",
      "\n"
     ]
    }
   ],
   "source": [
    "df = spark.read.csv(\"work/topviews-2023_09.csv\", header=True, multiLine=True)\n",
    "df.show(5)"
   ]
  },
  {
   "cell_type": "code",
   "execution_count": 25,
   "id": "3c80db87",
   "metadata": {},
   "outputs": [
    {
     "data": {
      "text/plain": [
       "991"
      ]
     },
     "execution_count": 25,
     "metadata": {},
     "output_type": "execute_result"
    }
   ],
   "source": [
    "df.count()"
   ]
  },
  {
   "cell_type": "markdown",
   "id": "3af89a01",
   "metadata": {},
   "source": [
    "## Additional function"
   ]
  },
  {
   "cell_type": "code",
   "execution_count": 39,
   "id": "6aac0141",
   "metadata": {},
   "outputs": [],
   "source": [
    "use_stopwords = True  # Use True or False\n",
    "use_custom_stopwords = False  # Use True or False\n",
    "latent_features = 20  # Dimension of features\n",
    "nearest = 3  # Number of nearest neighbors\n",
    "\n",
    "# # Register Spark to be used by joblib\n",
    "register_spark()\n",
    "\n",
    "def timeit(func):\n",
    "    def timed(*args, **kwargs):\n",
    "        import time\n",
    "        start = time.time()\n",
    "        result = func(*args, **kwargs)\n",
    "        end = time.time()\n",
    "        print(\"Time elapsed for \" + func.__name__ + \": \" + str(end - start))\n",
    "        return result\n",
    "\n",
    "    return timed\n",
    "\n",
    "def read_data(spark, data):\n",
    "    if data == \"barcelona\":\n",
    "        df = spark.read.csv(\"listings_barcelona.csv\", header=True, multiLine=True)\n",
    "    elif data == \"titles\":\n",
    "        df = spark.read.csv(\"work/topviews-2023_09.csv\", header=True, multiLine=True)\n",
    "        # add id column as row number\n",
    "        df = df.withColumn(\"id\", monotonically_increasing_id())\n",
    "    else:\n",
    "        raise ValueError(\"Invalid data\")\n",
    "    return df\n",
    "\n",
    "def limit_data(df, limit=50): # -1 means no limit\n",
    "    if limit > 0:\n",
    "        df = df.limit(limit)\n",
    "    return df\n",
    "\n",
    "def get_features(df, input_col=\"name\", output_col=\"features\", type_features=\"tfidf\"):\n",
    "    tokenizer = Tokenizer(inputCol=input_col, outputCol=\"words\")\n",
    "    df = tokenizer.transform(df)\n",
    "\n",
    "    if use_stopwords:\n",
    "        if use_custom_stopwords:\n",
    "            remover = StopWordsRemover(stopWords=stop_list, inputCol=\"words\", outputCol=\"clean_tokens\")\n",
    "        else:\n",
    "            remover = StopWordsRemover(inputCol=\"words\", outputCol=\"clean_tokens\")\n",
    "        df = remover.transform(df)\n",
    "        df = df.drop(\"words\")\n",
    "        df = df.withColumnRenamed(\"clean_tokens\", \"words\")\n",
    "\n",
    "    if type_features == \"tfidf\":\n",
    "        hashing = HashingTF(inputCol=\"words\", outputCol=\"hash\", numFeatures=latent_features)\n",
    "        df = hashing.transform(df)\n",
    "\n",
    "        idf = IDF(inputCol=\"hash\", outputCol=output_col)\n",
    "        model = idf.fit(df)\n",
    "        df = model.transform(df)\n",
    "    elif type_features == \"word_to_vec\":\n",
    "        word_vec = Word2Vec(vectorSize=latent_features, minCount=0, inputCol=\"words\", outputCol=output_col)\n",
    "        model = word_vec.fit(df)\n",
    "        df = model.transform(df)\n",
    "    else:\n",
    "        raise ValueError(\"Invalid feature \" + type_features)\n",
    "\n",
    "    return df\n",
    "\n",
    "@timeit\n",
    "def compute_gt(ds, spark, k=nearest, input_col=\"features\", output_col=\"gt_neighbors\"):\n",
    "    df = ds.toPandas()\n",
    "    features = df[input_col].tolist()\n",
    "    model = NearestNeighbors(n_neighbors=k + 1, algorithm='ball_tree').fit(features)\n",
    "    _, indices = model.kneighbors(features)\n",
    "    # remove self from neighbors\n",
    "    indices = [Vectors.dense(df[\"id\"][np.delete(ind, np.where(ind == i))].values) for i, ind in enumerate(indices)]\n",
    "    df[output_col] = indices\n",
    "\n",
    "    return spark.createDataFrame(df)\n",
    "\n",
    "@timeit\n",
    "def lsh_prediction(ds, spark, k=nearest, input_col=\"features\",\n",
    "                   output_col=\"ann_neighbors\", num_hash_tables=3):\n",
    "    model = MinHashLSH(inputCol=input_col, outputCol=output_col, numHashTables=num_hash_tables)\n",
    "    model = model.fit(ds)\n",
    "\n",
    "    # TODO There should be something better than this\n",
    "    pred = []\n",
    "    for i in tqdm(ds.collect()):\n",
    "        id_ = i[\"id\"]\n",
    "        key = i[input_col]\n",
    "        pred.append(model.approxNearestNeighbors(ds, key, k + 1).filter(col(\"id\") != id_).select(\"id\").collect())\n",
    "\n",
    "    pred = [Vectors.dense([i[\"id\"] for i in ann]) for ann in pred]\n",
    "    df = ds.toPandas()\n",
    "    df[output_col] = pred\n",
    "    ds = spark.createDataFrame(df)\n",
    "\n",
    "    return ds\n",
    "\n",
    "@timeit\n",
    "def grid_search_lsh(ds, spark, k=nearest, input_col=\"features\", output_col=\"ann_neighbors\"):\n",
    "    param_grid = [5, 10, 20, 100]\n",
    "    results = []\n",
    "    print(\"=\"*50)\n",
    "    print(\"Grid search for LSH\")\n",
    "\n",
    "    # Run the grid search in parallel\n",
    "    with Parallel(n_jobs=-1, backend=\"spark\") as parallel:\n",
    "        for num_hash_table in param_grid:\n",
    "            ds_ = lsh_prediction(ds, spark, k=k, input_col=input_col, output_col=output_col,\n",
    "                                num_hash_tables=num_hash_table)\n",
    "            acc = evaluation(ds_)\n",
    "            print(f\"Method: LSH - Num Hash Tables: {num_hash_table} - Accuracy: {acc}\\n\")\n",
    "            results.append((num_hash_table, acc))\n",
    "    print(\"=\"*50, \"\\n\\n\")\n",
    "    return results\n",
    "\n",
    "@timeit\n",
    "def annoy_prediction(ds, k=nearest, input_col=\"features\", output_col=\"ann_neighbors\", metric='angular', tree=10):\n",
    "    df = ds.toPandas()\n",
    "    features = df[input_col].tolist()\n",
    "    f = len(features[0])\n",
    "    t = AnnoyIndex(f, metric=metric)\n",
    "    for i, v in enumerate(features):\n",
    "        t.add_item(i, v)\n",
    "    t.build(tree)\n",
    "    pred = []\n",
    "    for i in tqdm(features):\n",
    "        pred.append(t.get_nns_by_vector(i, k + 1, include_distances=False)[1:])\n",
    "    pred = [Vectors.dense([df[\"id\"][i] for i in ann]) for ann in pred]\n",
    "    df[output_col] = pred\n",
    "    ds = spark.createDataFrame(df)\n",
    "\n",
    "    return ds\n",
    "\n",
    "@timeit\n",
    "def grid_search_annoy(ds, k=nearest, input_col=\"features\", output_col=\"ann_neighbors\"):\n",
    "    metrics = ['angular', 'euclidean', 'dot']\n",
    "    trees = [10, 100, 1000]\n",
    "    param_grid = [(metric, tree) for metric in metrics for tree in trees]\n",
    "    results = []\n",
    "    print(\"=\"*50)\n",
    "    print(\"Grid search for Annoy\")\n",
    "\n",
    "    # Run the grid search in parallel\n",
    "    with Parallel(n_jobs=-1, backend=\"spark\") as parallel:\n",
    "        for metric, tree in param_grid:\n",
    "            ds = annoy_prediction(ds, k=k, input_col=input_col, output_col=output_col, metric=metric, tree=tree)\n",
    "            acc = evaluation(ds)\n",
    "            print(f\"Method: Annoy - Metric: {metric} - Tree: {tree} - Accuracy: {acc}\\n\")\n",
    "            results.append((metric, tree, acc))\n",
    "    print(\"=\"*50, \"\\n\\n\")\n",
    "    return results\n",
    "\n",
    "def evaluation(ds):\n",
    "    acc = 0\n",
    "    for i in ds.collect():\n",
    "        gt = i[\"gt_neighbors\"]\n",
    "        ann = i[\"ann_neighbors\"]\n",
    "        gt.sort(), ann.sort()\n",
    "        acc += len(set(gt).intersection(set(ann)))\n",
    "    acc /= len(ds.collect()) * nearest\n",
    "\n",
    "    return acc"
   ]
  },
  {
   "cell_type": "markdown",
   "id": "8b31dafb",
   "metadata": {},
   "source": [
    "## Barcelona dataset\n",
    "### type_features: `Tf-idf`\n",
    "**Try LSH method from Pyspark(not optimized) and LSH method from Annoy**"
   ]
  },
  {
   "cell_type": "code",
   "execution_count": 27,
   "id": "7cacb5dd",
   "metadata": {},
   "outputs": [],
   "source": [
    "limit = -1  # Use -1 for no limit\n",
    "data = \"barcelona\"  # Use \"barcelona\" or \"titles\"\n",
    "nearest = 3\n",
    "use_stopwords = True  # Use True or False\n",
    "use_custom_stopwords = False  # Use True or False\n",
    "latent_features = 20  # Dimension of features\n",
    "type_features = \"tfidf\"  # Use \"tfidf\" or \"word_to_vec\""
   ]
  },
  {
   "cell_type": "code",
   "execution_count": 28,
   "id": "c638a273",
   "metadata": {},
   "outputs": [
    {
     "name": "stdout",
     "output_type": "stream",
     "text": [
      "Reading data for barcelona with limit 50 and features tfidf ...\n",
      "\n",
      "Calculating gt neighbors nearest neighbors, could take a while...\n",
      "Time elapsed for compute_gt: 0.3051784038543701\n",
      "==================================================\n",
      "Grid search for LSH\n"
     ]
    },
    {
     "name": "stderr",
     "output_type": "stream",
     "text": [
      "100%|██████████| 50/50 [00:13<00:00,  3.65it/s]\n"
     ]
    },
    {
     "name": "stdout",
     "output_type": "stream",
     "text": [
      "Time elapsed for lsh_prediction: 15.093586206436157\n",
      "Method: LSH - Num Hash Tables: 5 - Accuracy: 0.5733333333333334\n",
      "\n"
     ]
    },
    {
     "name": "stderr",
     "output_type": "stream",
     "text": [
      "100%|██████████| 50/50 [00:11<00:00,  4.36it/s]\n"
     ]
    },
    {
     "name": "stdout",
     "output_type": "stream",
     "text": [
      "Time elapsed for lsh_prediction: 11.93342900276184\n",
      "Method: LSH - Num Hash Tables: 10 - Accuracy: 0.5666666666666667\n",
      "\n"
     ]
    },
    {
     "name": "stderr",
     "output_type": "stream",
     "text": [
      "100%|██████████| 50/50 [00:09<00:00,  5.41it/s]\n"
     ]
    },
    {
     "name": "stdout",
     "output_type": "stream",
     "text": [
      "Time elapsed for lsh_prediction: 9.636497497558594\n",
      "Method: LSH - Num Hash Tables: 20 - Accuracy: 0.5666666666666667\n",
      "\n"
     ]
    },
    {
     "name": "stderr",
     "output_type": "stream",
     "text": [
      "100%|██████████| 50/50 [00:10<00:00,  4.84it/s]\n"
     ]
    },
    {
     "name": "stdout",
     "output_type": "stream",
     "text": [
      "Time elapsed for lsh_prediction: 10.809253215789795\n",
      "Method: LSH - Num Hash Tables: 100 - Accuracy: 0.5666666666666667\n",
      "\n",
      "================================================== \n",
      "\n",
      "\n",
      "Time elapsed for grid_search_lsh: 48.77841663360596\n"
     ]
    },
    {
     "data": {
      "text/plain": [
       "[(5, 0.5733333333333334),\n",
       " (10, 0.5666666666666667),\n",
       " (20, 0.5666666666666667),\n",
       " (100, 0.5666666666666667)]"
      ]
     },
     "execution_count": 28,
     "metadata": {},
     "output_type": "execute_result"
    }
   ],
   "source": [
    "print(\"Reading data for \" + data + \" with limit \" + str(limit) + \" and features \" + type_features + \" ...\\n\")\n",
    "\n",
    "df = read_data(spark, data)\n",
    "df = limit_data(df, limit)\n",
    "\n",
    "df = get_features(df, type_features=type_features)\n",
    "\n",
    "print(\"Calculating gt neighbors nearest neighbors, could take a while...\")\n",
    "df = compute_gt(df, spark)\n",
    "\n",
    "grid_search_lsh(df, spark)"
   ]
  },
  {
   "cell_type": "code",
   "execution_count": 29,
   "id": "3264edac",
   "metadata": {},
   "outputs": [
    {
     "name": "stdout",
     "output_type": "stream",
     "text": [
      "Reading data for barcelona with limit 50 and features tfidf ...\n",
      "\n"
     ]
    },
    {
     "name": "stdout",
     "output_type": "stream",
     "text": [
      "Calculating gt neighbors nearest neighbors, could take a while...\n",
      "Time elapsed for compute_gt: 0.1712968349456787\n",
      "==================================================\n",
      "Grid search for Annoy\n"
     ]
    },
    {
     "name": "stderr",
     "output_type": "stream",
     "text": [
      "100%|██████████| 50/50 [00:00<00:00, 3755.64it/s]\n"
     ]
    },
    {
     "name": "stdout",
     "output_type": "stream",
     "text": [
      "Time elapsed for annoy_prediction: 0.37523818016052246\n",
      "Method: Annoy - Metric: angular - Tree: 10 - Accuracy: 0.82\n",
      "\n"
     ]
    },
    {
     "name": "stderr",
     "output_type": "stream",
     "text": [
      "100%|██████████| 50/50 [00:00<00:00, 7341.94it/s]"
     ]
    },
    {
     "name": "stdout",
     "output_type": "stream",
     "text": [
      "Time elapsed for annoy_prediction: 0.1696934700012207\n"
     ]
    },
    {
     "name": "stderr",
     "output_type": "stream",
     "text": [
      "\n"
     ]
    },
    {
     "name": "stdout",
     "output_type": "stream",
     "text": [
      "Method: Annoy - Metric: angular - Tree: 100 - Accuracy: 0.8133333333333334\n",
      "\n"
     ]
    },
    {
     "name": "stderr",
     "output_type": "stream",
     "text": [
      "100%|██████████| 50/50 [00:00<00:00, 2013.01it/s]\n"
     ]
    },
    {
     "name": "stdout",
     "output_type": "stream",
     "text": [
      "Time elapsed for annoy_prediction: 0.25090670585632324\n",
      "Method: Annoy - Metric: angular - Tree: 1000 - Accuracy: 0.8133333333333334\n",
      "\n"
     ]
    },
    {
     "name": "stderr",
     "output_type": "stream",
     "text": [
      "100%|██████████| 50/50 [00:00<00:00, 6132.02it/s]\n"
     ]
    },
    {
     "name": "stdout",
     "output_type": "stream",
     "text": [
      "Time elapsed for annoy_prediction: 0.22156262397766113\n",
      "Method: Annoy - Metric: euclidean - Tree: 10 - Accuracy: 0.9466666666666667\n",
      "\n"
     ]
    },
    {
     "name": "stderr",
     "output_type": "stream",
     "text": [
      "100%|██████████| 50/50 [00:00<00:00, 5015.91it/s]\n"
     ]
    },
    {
     "name": "stdout",
     "output_type": "stream",
     "text": [
      "Time elapsed for annoy_prediction: 0.2560689449310303\n",
      "Method: Annoy - Metric: euclidean - Tree: 100 - Accuracy: 0.96\n",
      "\n"
     ]
    },
    {
     "name": "stderr",
     "output_type": "stream",
     "text": [
      "100%|██████████| 50/50 [00:00<00:00, 1943.77it/s]\n"
     ]
    },
    {
     "name": "stdout",
     "output_type": "stream",
     "text": [
      "Time elapsed for annoy_prediction: 0.259688138961792\n",
      "Method: Annoy - Metric: euclidean - Tree: 1000 - Accuracy: 0.9666666666666667\n",
      "\n"
     ]
    },
    {
     "name": "stderr",
     "output_type": "stream",
     "text": [
      "100%|██████████| 50/50 [00:00<00:00, 7620.74it/s]"
     ]
    },
    {
     "name": "stdout",
     "output_type": "stream",
     "text": [
      "Time elapsed for annoy_prediction: 0.18961048126220703\n"
     ]
    },
    {
     "name": "stderr",
     "output_type": "stream",
     "text": [
      "\n"
     ]
    },
    {
     "name": "stdout",
     "output_type": "stream",
     "text": [
      "Method: Annoy - Metric: dot - Tree: 10 - Accuracy: 0.31333333333333335\n",
      "\n"
     ]
    },
    {
     "name": "stderr",
     "output_type": "stream",
     "text": [
      "100%|██████████| 50/50 [00:00<00:00, 5088.94it/s]"
     ]
    },
    {
     "name": "stdout",
     "output_type": "stream",
     "text": [
      "Time elapsed for annoy_prediction: 0.20073294639587402"
     ]
    },
    {
     "name": "stderr",
     "output_type": "stream",
     "text": [
      "\n"
     ]
    },
    {
     "name": "stdout",
     "output_type": "stream",
     "text": [
      "\n",
      "Method: Annoy - Metric: dot - Tree: 100 - Accuracy: 0.3\n",
      "\n"
     ]
    },
    {
     "name": "stderr",
     "output_type": "stream",
     "text": [
      "100%|██████████| 50/50 [00:00<00:00, 1433.67it/s]\n"
     ]
    },
    {
     "name": "stdout",
     "output_type": "stream",
     "text": [
      "Time elapsed for annoy_prediction: 0.3222932815551758\n",
      "Method: Annoy - Metric: dot - Tree: 1000 - Accuracy: 0.3\n",
      "\n",
      "================================================== \n",
      "\n",
      "\n",
      "Time elapsed for grid_search_annoy: 4.976179599761963\n"
     ]
    },
    {
     "data": {
      "text/plain": [
       "[('angular', 10, 0.82),\n",
       " ('angular', 100, 0.8133333333333334),\n",
       " ('angular', 1000, 0.8133333333333334),\n",
       " ('euclidean', 10, 0.9466666666666667),\n",
       " ('euclidean', 100, 0.96),\n",
       " ('euclidean', 1000, 0.9666666666666667),\n",
       " ('dot', 10, 0.31333333333333335),\n",
       " ('dot', 100, 0.3),\n",
       " ('dot', 1000, 0.3)]"
      ]
     },
     "execution_count": 29,
     "metadata": {},
     "output_type": "execute_result"
    }
   ],
   "source": [
    "print(\"Reading data for \" + data + \" with limit \" + str(limit) + \" and features \" + type_features + \" ...\\n\")\n",
    "\n",
    "df = read_data(spark, data)\n",
    "df = limit_data(df, limit)\n",
    "\n",
    "df = get_features(df, type_features=type_features)\n",
    "\n",
    "print(\"Calculating gt neighbors nearest neighbors, could take a while...\")\n",
    "df = compute_gt(df, spark)\n",
    "\n",
    "grid_search_annoy(df, k=nearest, input_col=\"features\", output_col=\"ann_neighbors\")"
   ]
  },
  {
   "cell_type": "markdown",
   "id": "743cfc7c",
   "metadata": {},
   "source": [
    "## Barcelona dataset\n",
    "### type_features: `Word2vec`\n",
    "**Try LSH method from Pyspark(not optimized) and LSH method from Annoy**"
   ]
  },
  {
   "cell_type": "code",
   "execution_count": 30,
   "id": "0832263b",
   "metadata": {},
   "outputs": [],
   "source": [
    "limit = -1  # Use -1 for no limit\n",
    "data = \"barcelona\"  # Use \"barcelona\" or \"titles\"\n",
    "nearest = 3\n",
    "use_stopwords = True  # Use True or False\n",
    "use_custom_stopwords = False  # Use True or False\n",
    "latent_features = 20  # Dimension of features\n",
    "type_features = \"word_to_vec\"  # Use \"tfidf\" or \"word_to_vec\""
   ]
  },
  {
   "cell_type": "code",
   "execution_count": 31,
   "id": "a9448810",
   "metadata": {},
   "outputs": [
    {
     "name": "stdout",
     "output_type": "stream",
     "text": [
      "Reading data for barcelona with limit 50 and features word_to_vec ...\n",
      "\n",
      "Calculating gt neighbors nearest neighbors, could take a while...\n",
      "Time elapsed for compute_gt: 0.1323404312133789\n",
      "==================================================\n",
      "Grid search for LSH\n"
     ]
    },
    {
     "name": "stderr",
     "output_type": "stream",
     "text": [
      "100%|██████████| 50/50 [00:10<00:00,  4.84it/s]\n"
     ]
    },
    {
     "name": "stdout",
     "output_type": "stream",
     "text": [
      "Time elapsed for lsh_prediction: 10.80126690864563\n",
      "Method: LSH - Num Hash Tables: 5 - Accuracy: 0.07333333333333333\n",
      "\n"
     ]
    },
    {
     "name": "stderr",
     "output_type": "stream",
     "text": [
      "100%|██████████| 50/50 [00:09<00:00,  5.29it/s]\n"
     ]
    },
    {
     "name": "stdout",
     "output_type": "stream",
     "text": [
      "Time elapsed for lsh_prediction: 9.926118850708008\n",
      "Method: LSH - Num Hash Tables: 10 - Accuracy: 0.07333333333333333\n",
      "\n"
     ]
    },
    {
     "name": "stderr",
     "output_type": "stream",
     "text": [
      "100%|██████████| 50/50 [00:08<00:00,  5.63it/s]\n"
     ]
    },
    {
     "name": "stdout",
     "output_type": "stream",
     "text": [
      "Time elapsed for lsh_prediction: 9.312865972518921\n",
      "Method: LSH - Num Hash Tables: 20 - Accuracy: 0.07333333333333333\n",
      "\n"
     ]
    },
    {
     "name": "stderr",
     "output_type": "stream",
     "text": [
      "100%|██████████| 50/50 [00:08<00:00,  5.75it/s]\n"
     ]
    },
    {
     "name": "stdout",
     "output_type": "stream",
     "text": [
      "Time elapsed for lsh_prediction: 9.116144895553589\n",
      "Method: LSH - Num Hash Tables: 100 - Accuracy: 0.07333333333333333\n",
      "\n",
      "================================================== \n",
      "\n",
      "\n",
      "Time elapsed for grid_search_lsh: 40.24219989776611\n"
     ]
    },
    {
     "data": {
      "text/plain": [
       "[(5, 0.07333333333333333),\n",
       " (10, 0.07333333333333333),\n",
       " (20, 0.07333333333333333),\n",
       " (100, 0.07333333333333333)]"
      ]
     },
     "execution_count": 31,
     "metadata": {},
     "output_type": "execute_result"
    }
   ],
   "source": [
    "print(\"Reading data for \" + data + \" with limit \" + str(limit) + \" and features \" + type_features + \" ...\\n\")\n",
    "\n",
    "df = read_data(spark, data)\n",
    "df = limit_data(df, limit)\n",
    "\n",
    "df = get_features(df, type_features=type_features)\n",
    "\n",
    "print(\"Calculating gt neighbors nearest neighbors, could take a while...\")\n",
    "df = compute_gt(df, spark)\n",
    "\n",
    "grid_search_lsh(df, spark)"
   ]
  },
  {
   "cell_type": "code",
   "execution_count": 32,
   "id": "a2ad463c",
   "metadata": {},
   "outputs": [
    {
     "name": "stdout",
     "output_type": "stream",
     "text": [
      "Reading data for barcelona with limit 50 and features word_to_vec ...\n",
      "\n",
      "Calculating gt neighbors nearest neighbors, could take a while...\n",
      "Time elapsed for compute_gt: 0.11008501052856445\n",
      "==================================================\n",
      "Grid search for Annoy\n"
     ]
    },
    {
     "name": "stderr",
     "output_type": "stream",
     "text": [
      "100%|██████████| 50/50 [00:00<00:00, 37203.34it/s]\n"
     ]
    },
    {
     "name": "stdout",
     "output_type": "stream",
     "text": [
      "Time elapsed for annoy_prediction: 0.19582915306091309\n",
      "Method: Annoy - Metric: angular - Tree: 10 - Accuracy: 0.8333333333333334\n",
      "\n"
     ]
    },
    {
     "name": "stderr",
     "output_type": "stream",
     "text": [
      "100%|██████████| 50/50 [00:00<00:00, 20317.30it/s]"
     ]
    },
    {
     "name": "stdout",
     "output_type": "stream",
     "text": [
      "Time elapsed for annoy_prediction: 0.1560664176940918\n"
     ]
    },
    {
     "name": "stderr",
     "output_type": "stream",
     "text": [
      "\n"
     ]
    },
    {
     "name": "stdout",
     "output_type": "stream",
     "text": [
      "Method: Annoy - Metric: angular - Tree: 100 - Accuracy: 0.84\n",
      "\n"
     ]
    },
    {
     "name": "stderr",
     "output_type": "stream",
     "text": [
      "100%|██████████| 50/50 [00:00<00:00, 2824.29it/s]"
     ]
    },
    {
     "name": "stdout",
     "output_type": "stream",
     "text": [
      "Time elapsed for annoy_prediction: 0.1698594093322754\n"
     ]
    },
    {
     "name": "stderr",
     "output_type": "stream",
     "text": [
      "\n"
     ]
    },
    {
     "name": "stdout",
     "output_type": "stream",
     "text": [
      "Method: Annoy - Metric: angular - Tree: 1000 - Accuracy: 0.8533333333333334\n",
      "\n"
     ]
    },
    {
     "name": "stderr",
     "output_type": "stream",
     "text": [
      "100%|██████████| 50/50 [00:00<00:00, 115164.85it/s]"
     ]
    },
    {
     "name": "stdout",
     "output_type": "stream",
     "text": [
      "Time elapsed for annoy_prediction: 0.19256114959716797\n"
     ]
    },
    {
     "name": "stderr",
     "output_type": "stream",
     "text": [
      "\n"
     ]
    },
    {
     "name": "stdout",
     "output_type": "stream",
     "text": [
      "Method: Annoy - Metric: euclidean - Tree: 10 - Accuracy: 0.9733333333333334\n",
      "\n"
     ]
    },
    {
     "name": "stderr",
     "output_type": "stream",
     "text": [
      "100%|██████████| 50/50 [00:00<00:00, 20728.99it/s]"
     ]
    },
    {
     "name": "stdout",
     "output_type": "stream",
     "text": [
      "Time elapsed for annoy_prediction: 0.15189266204833984\n"
     ]
    },
    {
     "name": "stderr",
     "output_type": "stream",
     "text": [
      "\n"
     ]
    },
    {
     "name": "stdout",
     "output_type": "stream",
     "text": [
      "Method: Annoy - Metric: euclidean - Tree: 100 - Accuracy: 0.9866666666666667\n",
      "\n"
     ]
    },
    {
     "name": "stderr",
     "output_type": "stream",
     "text": [
      "100%|██████████| 50/50 [00:00<00:00, 2515.08it/s]"
     ]
    },
    {
     "name": "stdout",
     "output_type": "stream",
     "text": [
      "Time elapsed for annoy_prediction: 0.182830810546875\n"
     ]
    },
    {
     "name": "stderr",
     "output_type": "stream",
     "text": [
      "\n"
     ]
    },
    {
     "name": "stdout",
     "output_type": "stream",
     "text": [
      "Method: Annoy - Metric: euclidean - Tree: 1000 - Accuracy: 0.9866666666666667\n",
      "\n"
     ]
    },
    {
     "name": "stderr",
     "output_type": "stream",
     "text": [
      "100%|██████████| 50/50 [00:00<00:00, 55627.37it/s]"
     ]
    },
    {
     "name": "stdout",
     "output_type": "stream",
     "text": [
      "Time elapsed for annoy_prediction: 0.1544325351715088\n"
     ]
    },
    {
     "name": "stderr",
     "output_type": "stream",
     "text": [
      "\n"
     ]
    },
    {
     "name": "stdout",
     "output_type": "stream",
     "text": [
      "Method: Annoy - Metric: dot - Tree: 10 - Accuracy: 0.08666666666666667\n",
      "\n"
     ]
    },
    {
     "name": "stderr",
     "output_type": "stream",
     "text": [
      "100%|██████████| 50/50 [00:00<00:00, 36908.69it/s]"
     ]
    },
    {
     "name": "stdout",
     "output_type": "stream",
     "text": [
      "Time elapsed for annoy_prediction: 0.17861557006835938\n"
     ]
    },
    {
     "name": "stderr",
     "output_type": "stream",
     "text": [
      "\n"
     ]
    },
    {
     "name": "stdout",
     "output_type": "stream",
     "text": [
      "Method: Annoy - Metric: dot - Tree: 100 - Accuracy: 0.04666666666666667\n",
      "\n"
     ]
    },
    {
     "name": "stderr",
     "output_type": "stream",
     "text": [
      "100%|██████████| 50/50 [00:00<00:00, 3084.64it/s]\n"
     ]
    },
    {
     "name": "stdout",
     "output_type": "stream",
     "text": [
      "Time elapsed for annoy_prediction: 0.27036428451538086\n",
      "Method: Annoy - Metric: dot - Tree: 1000 - Accuracy: 0.04666666666666667\n",
      "\n",
      "================================================== \n",
      "\n",
      "\n",
      "Time elapsed for grid_search_annoy: 4.144101858139038\n"
     ]
    },
    {
     "data": {
      "text/plain": [
       "[('angular', 10, 0.8333333333333334),\n",
       " ('angular', 100, 0.84),\n",
       " ('angular', 1000, 0.8533333333333334),\n",
       " ('euclidean', 10, 0.9733333333333334),\n",
       " ('euclidean', 100, 0.9866666666666667),\n",
       " ('euclidean', 1000, 0.9866666666666667),\n",
       " ('dot', 10, 0.08666666666666667),\n",
       " ('dot', 100, 0.04666666666666667),\n",
       " ('dot', 1000, 0.04666666666666667)]"
      ]
     },
     "execution_count": 32,
     "metadata": {},
     "output_type": "execute_result"
    }
   ],
   "source": [
    "print(\"Reading data for \" + data + \" with limit \" + str(limit) + \" and features \" + type_features + \" ...\\n\")\n",
    "\n",
    "df = read_data(spark, data)\n",
    "df = limit_data(df, limit)\n",
    "\n",
    "df = get_features(df, type_features=type_features)\n",
    "\n",
    "print(\"Calculating gt neighbors nearest neighbors, could take a while...\")\n",
    "df = compute_gt(df, spark)\n",
    "\n",
    "grid_search_annoy(df, k=nearest, input_col=\"features\", output_col=\"ann_neighbors\")"
   ]
  },
  {
   "cell_type": "markdown",
   "id": "8216114c",
   "metadata": {},
   "source": [
    "## Wikipedia dataset\n",
    "### type_features: `Tf-idf`\n",
    "**Try LSH method from Pyspark(not optimized) and LSH method from Annoy**"
   ]
  },
  {
   "cell_type": "code",
   "execution_count": 40,
   "id": "590efc3f",
   "metadata": {},
   "outputs": [],
   "source": [
    "limit = -1  # Use -1 for no limit\n",
    "data = \"titles\"  # Use \"barcelona\" or \"titles\"\n",
    "nearest = 3\n",
    "use_stopwords = True  # Use True or False\n",
    "use_custom_stopwords = False  # Use True or False\n",
    "latent_features = 20  # Dimension of features\n",
    "type_features = \"tfidf\"  # Use \"tfidf\" or \"word_to_vec\""
   ]
  },
  {
   "cell_type": "code",
   "execution_count": 41,
   "id": "0d760c45",
   "metadata": {},
   "outputs": [
    {
     "name": "stdout",
     "output_type": "stream",
     "text": [
      "Reading data for titles with limit 50 and features tfidf ...\n",
      "\n",
      "Calculating gt neighbors nearest neighbors, could take a while...\n",
      "Time elapsed for compute_gt: 0.19445300102233887\n",
      "==================================================\n",
      "Grid search for LSH\n"
     ]
    },
    {
     "name": "stderr",
     "output_type": "stream",
     "text": [
      "100%|██████████| 50/50 [00:09<00:00,  5.25it/s]\n"
     ]
    },
    {
     "name": "stdout",
     "output_type": "stream",
     "text": [
      "Time elapsed for lsh_prediction: 10.044053792953491\n",
      "Method: LSH - Num Hash Tables: 5 - Accuracy: 0.6266666666666667\n",
      "\n"
     ]
    },
    {
     "name": "stderr",
     "output_type": "stream",
     "text": [
      "100%|██████████| 50/50 [00:09<00:00,  5.26it/s]\n"
     ]
    },
    {
     "name": "stdout",
     "output_type": "stream",
     "text": [
      "Time elapsed for lsh_prediction: 9.916013479232788\n",
      "Method: LSH - Num Hash Tables: 10 - Accuracy: 0.6933333333333334\n",
      "\n"
     ]
    },
    {
     "name": "stderr",
     "output_type": "stream",
     "text": [
      "100%|██████████| 50/50 [00:09<00:00,  5.27it/s]\n"
     ]
    },
    {
     "name": "stdout",
     "output_type": "stream",
     "text": [
      "Time elapsed for lsh_prediction: 10.049498558044434\n",
      "Method: LSH - Num Hash Tables: 20 - Accuracy: 0.6933333333333334\n",
      "\n"
     ]
    },
    {
     "name": "stderr",
     "output_type": "stream",
     "text": [
      "100%|██████████| 50/50 [00:08<00:00,  5.66it/s]\n"
     ]
    },
    {
     "name": "stdout",
     "output_type": "stream",
     "text": [
      "Time elapsed for lsh_prediction: 9.221503496170044\n",
      "Method: LSH - Num Hash Tables: 100 - Accuracy: 0.6933333333333334\n",
      "\n",
      "================================================== \n",
      "\n",
      "\n",
      "Time elapsed for grid_search_lsh: 40.323973178863525\n"
     ]
    },
    {
     "data": {
      "text/plain": [
       "[(5, 0.6266666666666667),\n",
       " (10, 0.6933333333333334),\n",
       " (20, 0.6933333333333334),\n",
       " (100, 0.6933333333333334)]"
      ]
     },
     "execution_count": 41,
     "metadata": {},
     "output_type": "execute_result"
    }
   ],
   "source": [
    "print(\"Reading data for \" + data + \" with limit \" + str(limit) + \" and features \" + type_features + \" ...\\n\")\n",
    "\n",
    "df = read_data(spark, data)\n",
    "df = limit_data(df, limit)\n",
    "\n",
    "df = get_features(df, input_col=\"Page\", type_features=type_features)\n",
    "\n",
    "print(\"Calculating gt neighbors nearest neighbors, could take a while...\")\n",
    "df = compute_gt(df, spark)\n",
    "\n",
    "grid_search_lsh(df, spark)"
   ]
  },
  {
   "cell_type": "code",
   "execution_count": 42,
   "id": "5755f19e",
   "metadata": {},
   "outputs": [
    {
     "name": "stdout",
     "output_type": "stream",
     "text": [
      "Reading data for titles with limit 50 and features tfidf ...\n",
      "\n",
      "Calculating gt neighbors nearest neighbors, could take a while...\n",
      "Time elapsed for compute_gt: 0.13683843612670898\n",
      "==================================================\n",
      "Grid search for Annoy\n"
     ]
    },
    {
     "name": "stderr",
     "output_type": "stream",
     "text": [
      "100%|██████████| 50/50 [00:00<00:00, 9367.30it/s]\n"
     ]
    },
    {
     "name": "stdout",
     "output_type": "stream",
     "text": [
      "Time elapsed for annoy_prediction: 0.15227961540222168\n",
      "Method: Annoy - Metric: angular - Tree: 10 - Accuracy: 0.72\n",
      "\n"
     ]
    },
    {
     "name": "stderr",
     "output_type": "stream",
     "text": [
      "100%|██████████| 50/50 [00:00<00:00, 7221.35it/s]"
     ]
    },
    {
     "name": "stdout",
     "output_type": "stream",
     "text": [
      "Time elapsed for annoy_prediction: 0.18560028076171875\n"
     ]
    },
    {
     "name": "stderr",
     "output_type": "stream",
     "text": [
      "\n"
     ]
    },
    {
     "name": "stdout",
     "output_type": "stream",
     "text": [
      "Method: Annoy - Metric: angular - Tree: 100 - Accuracy: 0.7133333333333334\n",
      "\n"
     ]
    },
    {
     "name": "stderr",
     "output_type": "stream",
     "text": [
      "100%|██████████| 50/50 [00:00<00:00, 2391.28it/s]"
     ]
    },
    {
     "name": "stdout",
     "output_type": "stream",
     "text": [
      "Time elapsed for annoy_prediction: 0.18099522590637207\n"
     ]
    },
    {
     "name": "stderr",
     "output_type": "stream",
     "text": [
      "\n"
     ]
    },
    {
     "name": "stdout",
     "output_type": "stream",
     "text": [
      "Method: Annoy - Metric: angular - Tree: 1000 - Accuracy: 0.7133333333333334\n",
      "\n"
     ]
    },
    {
     "name": "stderr",
     "output_type": "stream",
     "text": [
      "100%|██████████| 50/50 [00:00<00:00, 7551.05it/s]"
     ]
    },
    {
     "name": "stdout",
     "output_type": "stream",
     "text": [
      "Time elapsed for annoy_prediction: 0.1476612091064453\n"
     ]
    },
    {
     "name": "stderr",
     "output_type": "stream",
     "text": [
      "\n"
     ]
    },
    {
     "name": "stdout",
     "output_type": "stream",
     "text": [
      "Method: Annoy - Metric: euclidean - Tree: 10 - Accuracy: 0.9\n",
      "\n"
     ]
    },
    {
     "name": "stderr",
     "output_type": "stream",
     "text": [
      "100%|██████████| 50/50 [00:00<00:00, 6001.12it/s]"
     ]
    },
    {
     "name": "stdout",
     "output_type": "stream",
     "text": [
      "Time elapsed for annoy_prediction: 0.19230151176452637\n"
     ]
    },
    {
     "name": "stderr",
     "output_type": "stream",
     "text": [
      "\n"
     ]
    },
    {
     "name": "stdout",
     "output_type": "stream",
     "text": [
      "Method: Annoy - Metric: euclidean - Tree: 100 - Accuracy: 0.9666666666666667\n",
      "\n"
     ]
    },
    {
     "name": "stderr",
     "output_type": "stream",
     "text": [
      "100%|██████████| 50/50 [00:00<00:00, 2224.22it/s]"
     ]
    },
    {
     "name": "stdout",
     "output_type": "stream",
     "text": [
      "Time elapsed for annoy_prediction: 0.1911003589630127\n"
     ]
    },
    {
     "name": "stderr",
     "output_type": "stream",
     "text": [
      "\n"
     ]
    },
    {
     "name": "stdout",
     "output_type": "stream",
     "text": [
      "Method: Annoy - Metric: euclidean - Tree: 1000 - Accuracy: 0.9666666666666667\n",
      "\n"
     ]
    },
    {
     "name": "stderr",
     "output_type": "stream",
     "text": [
      "100%|██████████| 50/50 [00:00<00:00, 8288.48it/s]"
     ]
    },
    {
     "name": "stdout",
     "output_type": "stream",
     "text": [
      "Time elapsed for annoy_prediction: 0.20042037963867188\n"
     ]
    },
    {
     "name": "stderr",
     "output_type": "stream",
     "text": [
      "\n"
     ]
    },
    {
     "name": "stdout",
     "output_type": "stream",
     "text": [
      "Method: Annoy - Metric: dot - Tree: 10 - Accuracy: 0.35333333333333333\n",
      "\n"
     ]
    },
    {
     "name": "stderr",
     "output_type": "stream",
     "text": [
      "100%|██████████| 50/50 [00:00<00:00, 5986.73it/s]"
     ]
    },
    {
     "name": "stdout",
     "output_type": "stream",
     "text": [
      "Time elapsed for annoy_prediction: 0.1830732822418213\n"
     ]
    },
    {
     "name": "stderr",
     "output_type": "stream",
     "text": [
      "\n"
     ]
    },
    {
     "name": "stdout",
     "output_type": "stream",
     "text": [
      "Method: Annoy - Metric: dot - Tree: 100 - Accuracy: 0.38\n",
      "\n"
     ]
    },
    {
     "name": "stderr",
     "output_type": "stream",
     "text": [
      "100%|██████████| 50/50 [00:00<00:00, 1762.24it/s]\n"
     ]
    },
    {
     "name": "stdout",
     "output_type": "stream",
     "text": [
      "Time elapsed for annoy_prediction: 0.2177422046661377\n",
      "Method: Annoy - Metric: dot - Tree: 1000 - Accuracy: 0.38\n",
      "\n",
      "================================================== \n",
      "\n",
      "\n",
      "Time elapsed for grid_search_annoy: 4.075116872787476\n"
     ]
    },
    {
     "data": {
      "text/plain": [
       "[('angular', 10, 0.72),\n",
       " ('angular', 100, 0.7133333333333334),\n",
       " ('angular', 1000, 0.7133333333333334),\n",
       " ('euclidean', 10, 0.9),\n",
       " ('euclidean', 100, 0.9666666666666667),\n",
       " ('euclidean', 1000, 0.9666666666666667),\n",
       " ('dot', 10, 0.35333333333333333),\n",
       " ('dot', 100, 0.38),\n",
       " ('dot', 1000, 0.38)]"
      ]
     },
     "execution_count": 42,
     "metadata": {},
     "output_type": "execute_result"
    }
   ],
   "source": [
    "print(\"Reading data for \" + data + \" with limit \" + str(limit) + \" and features \" + type_features + \" ...\\n\")\n",
    "\n",
    "df = read_data(spark, data)\n",
    "df = limit_data(df, limit)\n",
    "\n",
    "df = get_features(df, input_col=\"Page\", type_features=type_features)\n",
    "\n",
    "print(\"Calculating gt neighbors nearest neighbors, could take a while...\")\n",
    "df = compute_gt(df, spark)\n",
    "\n",
    "grid_search_annoy(df, k=nearest, input_col=\"features\", output_col=\"ann_neighbors\")"
   ]
  },
  {
   "cell_type": "markdown",
   "id": "6fd4fd47",
   "metadata": {},
   "source": [
    "## Wikipedia dataset\n",
    "### type_features: `Word2Vec`\n",
    "**Try LSH method from Pyspark(not optimized) and LSH method from Annoy**"
   ]
  },
  {
   "cell_type": "code",
   "execution_count": 43,
   "id": "946eca8a",
   "metadata": {},
   "outputs": [],
   "source": [
    "limit = -1  # Use -1 for no limit\n",
    "data = \"titles\"  # Use \"barcelona\" or \"titles\"\n",
    "nearest = 3\n",
    "use_stopwords = True  # Use True or False\n",
    "use_custom_stopwords = False  # Use True or False\n",
    "latent_features = 20  # Dimension of features\n",
    "type_features = \"word_to_vec\"  # Use \"tfidf\" or \"word_to_vec\""
   ]
  },
  {
   "cell_type": "code",
   "execution_count": 44,
   "id": "1afd4b01",
   "metadata": {},
   "outputs": [
    {
     "name": "stdout",
     "output_type": "stream",
     "text": [
      "Reading data for titles with limit 50 and features word_to_vec ...\n",
      "\n",
      "Calculating gt neighbors nearest neighbors, could take a while...\n",
      "Time elapsed for compute_gt: 0.08867573738098145\n",
      "==================================================\n",
      "Grid search for LSH\n"
     ]
    },
    {
     "name": "stderr",
     "output_type": "stream",
     "text": [
      "100%|██████████| 50/50 [00:09<00:00,  5.14it/s]\n"
     ]
    },
    {
     "name": "stdout",
     "output_type": "stream",
     "text": [
      "Time elapsed for lsh_prediction: 10.199967861175537\n",
      "Method: LSH - Num Hash Tables: 5 - Accuracy: 0.05333333333333334\n",
      "\n"
     ]
    },
    {
     "name": "stderr",
     "output_type": "stream",
     "text": [
      "100%|██████████| 50/50 [00:09<00:00,  5.02it/s]\n"
     ]
    },
    {
     "name": "stdout",
     "output_type": "stream",
     "text": [
      "Time elapsed for lsh_prediction: 10.422884702682495\n",
      "Method: LSH - Num Hash Tables: 10 - Accuracy: 0.05333333333333334\n",
      "\n"
     ]
    },
    {
     "name": "stderr",
     "output_type": "stream",
     "text": [
      "100%|██████████| 50/50 [00:08<00:00,  5.57it/s]\n"
     ]
    },
    {
     "name": "stdout",
     "output_type": "stream",
     "text": [
      "Time elapsed for lsh_prediction: 9.395716905593872\n",
      "Method: LSH - Num Hash Tables: 20 - Accuracy: 0.05333333333333334\n",
      "\n"
     ]
    },
    {
     "name": "stderr",
     "output_type": "stream",
     "text": [
      "100%|██████████| 50/50 [00:09<00:00,  5.29it/s]\n"
     ]
    },
    {
     "name": "stdout",
     "output_type": "stream",
     "text": [
      "Time elapsed for lsh_prediction: 9.97730803489685\n",
      "Method: LSH - Num Hash Tables: 100 - Accuracy: 0.05333333333333334\n",
      "\n",
      "================================================== \n",
      "\n",
      "\n",
      "Time elapsed for grid_search_lsh: 41.161221742630005\n"
     ]
    },
    {
     "data": {
      "text/plain": [
       "[(5, 0.05333333333333334),\n",
       " (10, 0.05333333333333334),\n",
       " (20, 0.05333333333333334),\n",
       " (100, 0.05333333333333334)]"
      ]
     },
     "execution_count": 44,
     "metadata": {},
     "output_type": "execute_result"
    }
   ],
   "source": [
    "print(\"Reading data for \" + data + \" with limit \" + str(limit) + \" and features \" + type_features + \" ...\\n\")\n",
    "\n",
    "df = read_data(spark, data)\n",
    "df = limit_data(df, limit)\n",
    "\n",
    "df = get_features(df, input_col=\"Page\", type_features=type_features)\n",
    "\n",
    "print(\"Calculating gt neighbors nearest neighbors, could take a while...\")\n",
    "df = compute_gt(df, spark)\n",
    "\n",
    "grid_search_lsh(df, spark)"
   ]
  },
  {
   "cell_type": "code",
   "execution_count": 45,
   "id": "3b4e5f3f",
   "metadata": {},
   "outputs": [
    {
     "name": "stdout",
     "output_type": "stream",
     "text": [
      "Reading data for titles with limit 50 and features word_to_vec ...\n",
      "\n",
      "Calculating gt neighbors nearest neighbors, could take a while...\n",
      "Time elapsed for compute_gt: 0.15445518493652344\n",
      "==================================================\n",
      "Grid search for Annoy\n"
     ]
    },
    {
     "name": "stderr",
     "output_type": "stream",
     "text": [
      "100%|██████████| 50/50 [00:00<00:00, 59426.24it/s]\n"
     ]
    },
    {
     "name": "stdout",
     "output_type": "stream",
     "text": [
      "Time elapsed for annoy_prediction: 0.15851211547851562\n",
      "Method: Annoy - Metric: angular - Tree: 10 - Accuracy: 0.5\n",
      "\n"
     ]
    },
    {
     "name": "stderr",
     "output_type": "stream",
     "text": [
      "100%|██████████| 50/50 [00:00<00:00, 25052.59it/s]"
     ]
    },
    {
     "name": "stdout",
     "output_type": "stream",
     "text": [
      "Time elapsed for annoy_prediction: 0.16124391555786133\n"
     ]
    },
    {
     "name": "stderr",
     "output_type": "stream",
     "text": [
      "\n"
     ]
    },
    {
     "name": "stdout",
     "output_type": "stream",
     "text": [
      "Method: Annoy - Metric: angular - Tree: 100 - Accuracy: 0.5066666666666667\n",
      "\n"
     ]
    },
    {
     "name": "stderr",
     "output_type": "stream",
     "text": [
      "100%|██████████| 50/50 [00:00<00:00, 3065.29it/s]\n"
     ]
    },
    {
     "name": "stdout",
     "output_type": "stream",
     "text": [
      "Time elapsed for annoy_prediction: 0.25551581382751465\n",
      "Method: Annoy - Metric: angular - Tree: 1000 - Accuracy: 0.5066666666666667\n",
      "\n"
     ]
    },
    {
     "name": "stderr",
     "output_type": "stream",
     "text": [
      "100%|██████████| 50/50 [00:00<00:00, 66031.23it/s]"
     ]
    },
    {
     "name": "stdout",
     "output_type": "stream",
     "text": [
      "Time elapsed for annoy_prediction: 0.185532808303833\n"
     ]
    },
    {
     "name": "stderr",
     "output_type": "stream",
     "text": [
      "\n"
     ]
    },
    {
     "name": "stdout",
     "output_type": "stream",
     "text": [
      "Method: Annoy - Metric: euclidean - Tree: 10 - Accuracy: 0.88\n",
      "\n"
     ]
    },
    {
     "name": "stderr",
     "output_type": "stream",
     "text": [
      "100%|██████████| 50/50 [00:00<00:00, 20944.29it/s]"
     ]
    },
    {
     "name": "stdout",
     "output_type": "stream",
     "text": [
      "Time elapsed for annoy_prediction: 0.1557481288909912\n"
     ]
    },
    {
     "name": "stderr",
     "output_type": "stream",
     "text": [
      "\n"
     ]
    },
    {
     "name": "stdout",
     "output_type": "stream",
     "text": [
      "Method: Annoy - Metric: euclidean - Tree: 100 - Accuracy: 1.0\n",
      "\n"
     ]
    },
    {
     "name": "stderr",
     "output_type": "stream",
     "text": [
      "100%|██████████| 50/50 [00:00<00:00, 2407.92it/s]\n"
     ]
    },
    {
     "name": "stdout",
     "output_type": "stream",
     "text": [
      "Time elapsed for annoy_prediction: 0.21593117713928223\n",
      "Method: Annoy - Metric: euclidean - Tree: 1000 - Accuracy: 1.0\n",
      "\n"
     ]
    },
    {
     "name": "stderr",
     "output_type": "stream",
     "text": [
      "100%|██████████| 50/50 [00:00<00:00, 55319.23it/s]"
     ]
    },
    {
     "name": "stdout",
     "output_type": "stream",
     "text": [
      "Time elapsed for annoy_prediction: 0.18690085411071777\n"
     ]
    },
    {
     "name": "stderr",
     "output_type": "stream",
     "text": [
      "\n"
     ]
    },
    {
     "name": "stdout",
     "output_type": "stream",
     "text": [
      "Method: Annoy - Metric: dot - Tree: 10 - Accuracy: 0.26666666666666666\n",
      "\n"
     ]
    },
    {
     "name": "stderr",
     "output_type": "stream",
     "text": [
      "100%|██████████| 50/50 [00:00<00:00, 16586.14it/s]"
     ]
    },
    {
     "name": "stdout",
     "output_type": "stream",
     "text": [
      "Time elapsed for annoy_prediction: 0.19915127754211426\n"
     ]
    },
    {
     "name": "stderr",
     "output_type": "stream",
     "text": [
      "\n"
     ]
    },
    {
     "name": "stdout",
     "output_type": "stream",
     "text": [
      "Method: Annoy - Metric: dot - Tree: 100 - Accuracy: 0.22\n",
      "\n"
     ]
    },
    {
     "name": "stderr",
     "output_type": "stream",
     "text": [
      "100%|██████████| 50/50 [00:00<00:00, 2573.38it/s]"
     ]
    },
    {
     "name": "stdout",
     "output_type": "stream",
     "text": [
      "Time elapsed for annoy_prediction: 0.18084073066711426\n"
     ]
    },
    {
     "name": "stderr",
     "output_type": "stream",
     "text": [
      "\n"
     ]
    },
    {
     "name": "stdout",
     "output_type": "stream",
     "text": [
      "Method: Annoy - Metric: dot - Tree: 1000 - Accuracy: 0.22\n",
      "\n",
      "================================================== \n",
      "\n",
      "\n",
      "Time elapsed for grid_search_annoy: 4.051683187484741\n"
     ]
    },
    {
     "data": {
      "text/plain": [
       "[('angular', 10, 0.5),\n",
       " ('angular', 100, 0.5066666666666667),\n",
       " ('angular', 1000, 0.5066666666666667),\n",
       " ('euclidean', 10, 0.88),\n",
       " ('euclidean', 100, 1.0),\n",
       " ('euclidean', 1000, 1.0),\n",
       " ('dot', 10, 0.26666666666666666),\n",
       " ('dot', 100, 0.22),\n",
       " ('dot', 1000, 0.22)]"
      ]
     },
     "execution_count": 45,
     "metadata": {},
     "output_type": "execute_result"
    }
   ],
   "source": [
    "print(\"Reading data for \" + data + \" with limit \" + str(limit) + \" and features \" + type_features + \" ...\\n\")\n",
    "\n",
    "df = read_data(spark, data)\n",
    "df = limit_data(df, limit)\n",
    "\n",
    "df = get_features(df, input_col=\"Page\", type_features=type_features)\n",
    "\n",
    "print(\"Calculating gt neighbors nearest neighbors, could take a while...\")\n",
    "df = compute_gt(df, spark)\n",
    "\n",
    "grid_search_annoy(df, k=nearest, input_col=\"features\", output_col=\"ann_neighbors\")"
   ]
  },
  {
   "cell_type": "markdown",
   "id": "5fa29da7",
   "metadata": {},
   "source": [
    "# Results and conclusions:"
   ]
  },
  {
   "cell_type": "markdown",
   "id": "274b2cbb",
   "metadata": {},
   "source": []
  },
  {
   "cell_type": "markdown",
   "id": "be284e1d",
   "metadata": {},
   "source": []
  }
 ],
 "metadata": {
  "kernelspec": {
   "display_name": "Python 3 (ipykernel)",
   "language": "python",
   "name": "python3"
  },
  "language_info": {
   "codemirror_mode": {
    "name": "ipython",
    "version": 3
   },
   "file_extension": ".py",
   "mimetype": "text/x-python",
   "name": "python",
   "nbconvert_exporter": "python",
   "pygments_lexer": "ipython3",
   "version": "3.11.6"
  }
 },
 "nbformat": 4,
 "nbformat_minor": 5
}
