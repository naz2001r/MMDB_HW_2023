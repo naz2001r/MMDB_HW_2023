{
 "cells": [
  {
   "cell_type": "markdown",
   "id": "be8fefbf",
   "metadata": {},
   "source": [
    "# Homework 1 (include all parts from challenge 1+optional, 2 and homework)\n",
    "Authors:\n",
    "- Nazarii Drushchak\n",
    "- Igor Babin\n",
    "- Uliana Zbezhkhovska"
   ]
  },
  {
   "cell_type": "code",
   "execution_count": 12,
   "id": "1d8db555-03c4-49cc-84be-497d6dc4f1f2",
   "metadata": {},
   "outputs": [
    {
     "name": "stdout",
     "output_type": "stream",
     "text": [
      "Requirement already satisfied: findspark in /opt/conda/lib/python3.11/site-packages (2.0.1)\n"
     ]
    }
   ],
   "source": [
    "!pip install findspark"
   ]
  },
  {
   "cell_type": "code",
   "execution_count": 1,
   "id": "32012033-9003-4c00-96a6-006006f4d387",
   "metadata": {
    "ExecuteTime": {
     "end_time": "2023-10-20T07:03:40.396127Z",
     "start_time": "2023-10-20T07:03:40.144436Z"
    }
   },
   "outputs": [],
   "source": [
    "import findspark\n",
    "findspark.init()"
   ]
  },
  {
   "cell_type": "code",
   "execution_count": 40,
   "id": "db68f88c-6305-4e69-9e04-d483bb43a9e7",
   "metadata": {
    "ExecuteTime": {
     "end_time": "2023-10-20T08:23:49.571116Z",
     "start_time": "2023-10-20T08:23:49.570442Z"
    }
   },
   "outputs": [],
   "source": [
    "import pyspark\n",
    "from pyspark.sql import SparkSession\n",
    "from pyspark.ml.feature import MinHashLSH\n",
    "from pyspark.sql.functions import col, avg, when\n",
    "from pyspark.ml.feature import HashingTF, IDF, Tokenizer, StopWordsRemover\n",
    "from pyspark.ml.feature import Word2Vec\n",
    "from sklearn.neighbors import NearestNeighbors"
   ]
  },
  {
   "cell_type": "code",
   "execution_count": 29,
   "id": "ea159999-9445-4d0c-a2a9-8eb7eb700255",
   "metadata": {
    "ExecuteTime": {
     "end_time": "2023-10-20T08:21:37.892421Z",
     "start_time": "2023-10-20T08:21:37.820539Z"
    }
   },
   "outputs": [
    {
     "ename": "ValueError",
     "evalue": "Cannot run multiple SparkContexts at once; existing SparkContext(app=pyspark-shell, master=local[*]) created by __init__ at /tmp/ipykernel_323064/950410528.py:1 ",
     "output_type": "error",
     "traceback": [
      "\u001B[0;31m---------------------------------------------------------------------------\u001B[0m",
      "\u001B[0;31mValueError\u001B[0m                                Traceback (most recent call last)",
      "Cell \u001B[0;32mIn[29], line 1\u001B[0m\n\u001B[0;32m----> 1\u001B[0m sc \u001B[38;5;241m=\u001B[39m \u001B[43mpyspark\u001B[49m\u001B[38;5;241;43m.\u001B[39;49m\u001B[43mSparkContext\u001B[49m\u001B[43m(\u001B[49m\u001B[38;5;124;43m'\u001B[39;49m\u001B[38;5;124;43mlocal[*]\u001B[39;49m\u001B[38;5;124;43m'\u001B[39;49m\u001B[43m)\u001B[49m\n\u001B[1;32m      2\u001B[0m spark \u001B[38;5;241m=\u001B[39m SparkSession(sc)\n\u001B[1;32m      3\u001B[0m spark\n",
      "File \u001B[0;32m~/anaconda/envs/igor-ucu/lib/python3.8/site-packages/pyspark/context.py:201\u001B[0m, in \u001B[0;36mSparkContext.__init__\u001B[0;34m(self, master, appName, sparkHome, pyFiles, environment, batchSize, serializer, conf, gateway, jsc, profiler_cls, udf_profiler_cls, memory_profiler_cls)\u001B[0m\n\u001B[1;32m    195\u001B[0m \u001B[38;5;28;01mif\u001B[39;00m gateway \u001B[38;5;129;01mis\u001B[39;00m \u001B[38;5;129;01mnot\u001B[39;00m \u001B[38;5;28;01mNone\u001B[39;00m \u001B[38;5;129;01mand\u001B[39;00m gateway\u001B[38;5;241m.\u001B[39mgateway_parameters\u001B[38;5;241m.\u001B[39mauth_token \u001B[38;5;129;01mis\u001B[39;00m \u001B[38;5;28;01mNone\u001B[39;00m:\n\u001B[1;32m    196\u001B[0m     \u001B[38;5;28;01mraise\u001B[39;00m \u001B[38;5;167;01mValueError\u001B[39;00m(\n\u001B[1;32m    197\u001B[0m         \u001B[38;5;124m\"\u001B[39m\u001B[38;5;124mYou are trying to pass an insecure Py4j gateway to Spark. This\u001B[39m\u001B[38;5;124m\"\u001B[39m\n\u001B[1;32m    198\u001B[0m         \u001B[38;5;124m\"\u001B[39m\u001B[38;5;124m is not allowed as it is a security risk.\u001B[39m\u001B[38;5;124m\"\u001B[39m\n\u001B[1;32m    199\u001B[0m     )\n\u001B[0;32m--> 201\u001B[0m \u001B[43mSparkContext\u001B[49m\u001B[38;5;241;43m.\u001B[39;49m\u001B[43m_ensure_initialized\u001B[49m\u001B[43m(\u001B[49m\u001B[38;5;28;43mself\u001B[39;49m\u001B[43m,\u001B[49m\u001B[43m \u001B[49m\u001B[43mgateway\u001B[49m\u001B[38;5;241;43m=\u001B[39;49m\u001B[43mgateway\u001B[49m\u001B[43m,\u001B[49m\u001B[43m \u001B[49m\u001B[43mconf\u001B[49m\u001B[38;5;241;43m=\u001B[39;49m\u001B[43mconf\u001B[49m\u001B[43m)\u001B[49m\n\u001B[1;32m    202\u001B[0m \u001B[38;5;28;01mtry\u001B[39;00m:\n\u001B[1;32m    203\u001B[0m     \u001B[38;5;28mself\u001B[39m\u001B[38;5;241m.\u001B[39m_do_init(\n\u001B[1;32m    204\u001B[0m         master,\n\u001B[1;32m    205\u001B[0m         appName,\n\u001B[0;32m   (...)\u001B[0m\n\u001B[1;32m    215\u001B[0m         memory_profiler_cls,\n\u001B[1;32m    216\u001B[0m     )\n",
      "File \u001B[0;32m~/anaconda/envs/igor-ucu/lib/python3.8/site-packages/pyspark/context.py:449\u001B[0m, in \u001B[0;36mSparkContext._ensure_initialized\u001B[0;34m(cls, instance, gateway, conf)\u001B[0m\n\u001B[1;32m    446\u001B[0m     callsite \u001B[38;5;241m=\u001B[39m SparkContext\u001B[38;5;241m.\u001B[39m_active_spark_context\u001B[38;5;241m.\u001B[39m_callsite\n\u001B[1;32m    448\u001B[0m     \u001B[38;5;66;03m# Raise error if there is already a running Spark context\u001B[39;00m\n\u001B[0;32m--> 449\u001B[0m     \u001B[38;5;28;01mraise\u001B[39;00m \u001B[38;5;167;01mValueError\u001B[39;00m(\n\u001B[1;32m    450\u001B[0m         \u001B[38;5;124m\"\u001B[39m\u001B[38;5;124mCannot run multiple SparkContexts at once; \u001B[39m\u001B[38;5;124m\"\u001B[39m\n\u001B[1;32m    451\u001B[0m         \u001B[38;5;124m\"\u001B[39m\u001B[38;5;124mexisting SparkContext(app=\u001B[39m\u001B[38;5;132;01m%s\u001B[39;00m\u001B[38;5;124m, master=\u001B[39m\u001B[38;5;132;01m%s\u001B[39;00m\u001B[38;5;124m)\u001B[39m\u001B[38;5;124m\"\u001B[39m\n\u001B[1;32m    452\u001B[0m         \u001B[38;5;124m\"\u001B[39m\u001B[38;5;124m created by \u001B[39m\u001B[38;5;132;01m%s\u001B[39;00m\u001B[38;5;124m at \u001B[39m\u001B[38;5;132;01m%s\u001B[39;00m\u001B[38;5;124m:\u001B[39m\u001B[38;5;132;01m%s\u001B[39;00m\u001B[38;5;124m \u001B[39m\u001B[38;5;124m\"\u001B[39m\n\u001B[1;32m    453\u001B[0m         \u001B[38;5;241m%\u001B[39m (\n\u001B[1;32m    454\u001B[0m             currentAppName,\n\u001B[1;32m    455\u001B[0m             currentMaster,\n\u001B[1;32m    456\u001B[0m             callsite\u001B[38;5;241m.\u001B[39mfunction,\n\u001B[1;32m    457\u001B[0m             callsite\u001B[38;5;241m.\u001B[39mfile,\n\u001B[1;32m    458\u001B[0m             callsite\u001B[38;5;241m.\u001B[39mlinenum,\n\u001B[1;32m    459\u001B[0m         )\n\u001B[1;32m    460\u001B[0m     )\n\u001B[1;32m    461\u001B[0m \u001B[38;5;28;01melse\u001B[39;00m:\n\u001B[1;32m    462\u001B[0m     SparkContext\u001B[38;5;241m.\u001B[39m_active_spark_context \u001B[38;5;241m=\u001B[39m instance\n",
      "\u001B[0;31mValueError\u001B[0m: Cannot run multiple SparkContexts at once; existing SparkContext(app=pyspark-shell, master=local[*]) created by __init__ at /tmp/ipykernel_323064/950410528.py:1 "
     ]
    }
   ],
   "source": [
    "sc = pyspark.SparkContext('local[*]')\n",
    "spark = SparkSession(sc)\n",
    "spark"
   ]
  },
  {
   "cell_type": "markdown",
   "id": "1e49b5ac-b515-40f3-91a2-75180e325cb2",
   "metadata": {},
   "source": [
    "## Challenge I"
   ]
  },
  {
   "cell_type": "code",
   "execution_count": 30,
   "id": "ce3ecb16-2896-4a6a-9986-ca121098f0d6",
   "metadata": {
    "ExecuteTime": {
     "end_time": "2023-10-20T08:21:45.513585Z",
     "start_time": "2023-10-20T08:21:44.029081Z"
    }
   },
   "outputs": [
    {
     "name": "stdout",
     "output_type": "stream",
     "text": [
      "--2023-10-20 11:21:44--  http://data.insideairbnb.com/the-netherlands/north-holland/amsterdam/2023-09-03/visualisations/listings.csv\r\n",
      "Resolving data.insideairbnb.com (data.insideairbnb.com)... 52.217.198.45, 54.231.165.53, 54.231.167.29, ...\r\n",
      "Connecting to data.insideairbnb.com (data.insideairbnb.com)|52.217.198.45|:80... connected.\r\n",
      "HTTP request sent, awaiting response... 200 OK\r\n",
      "Length: 1698431 (1.6M) [application/csv]\r\n",
      "Saving to: ‘listings.csv.2’\r\n",
      "\r\n",
      "listings.csv.2      100%[===================>]   1.62M  1.62MB/s    in 1.0s    \r\n",
      "\r\n",
      "2023-10-20 11:21:45 (1.62 MB/s) - ‘listings.csv.2’ saved [1698431/1698431]\r\n",
      "\r\n"
     ]
    }
   ],
   "source": [
    "!wget http://data.insideairbnb.com/the-netherlands/north-holland/amsterdam/2023-09-03/visualisations/listings.csv"
   ]
  },
  {
   "cell_type": "code",
   "execution_count": 32,
   "id": "22130b8f-06df-436b-8db4-f8383622509b",
   "metadata": {
    "ExecuteTime": {
     "end_time": "2023-10-20T08:21:52.901663Z",
     "start_time": "2023-10-20T08:21:52.665613Z"
    }
   },
   "outputs": [
    {
     "name": "stdout",
     "output_type": "stream",
     "text": [
      "+------+--------------------+-------+---------+-------------------+-------------+--------+---------+---------------+-----+--------------+-----------------+-----------+-----------------+------------------------------+----------------+---------------------+--------------------+\n",
      "|    id|                name|host_id|host_name|neighbourhood_group|neighbourhood|latitude|longitude|      room_type|price|minimum_nights|number_of_reviews|last_review|reviews_per_month|calculated_host_listings_count|availability_365|number_of_reviews_ltm|             license|\n",
      "+------+--------------------+-------+---------+-------------------+-------------+--------+---------+---------------+-----+--------------+-----------------+-----------+-----------------+------------------------------+----------------+---------------------+--------------------+\n",
      "|761411|Condo in Amsterda...|4013546|   Xsjong|               NULL|   Noord-Oost|52.40164|  4.95106|   Private room|   61|             3|              303| 2023-08-19|             2.30|                             2|             272|                   26|0363 D4AD DCF3 E7...|\n",
      "|768274|Rental unit in Am...|3678216|    J & R|               NULL|   Westerpark|52.38855|  4.88521|Entire home/apt|  327|             3|               78| 2023-08-16|             0.64|                             1|              16|                    6|0363 7A50 18E7 51...|\n",
      "|768737|Boat in Amsterdam...|3877342|   Nicole|               NULL|   Westerpark|52.37824|  4.86826|   Private room|  109|             2|              341| 2023-08-24|             2.73|                             3|              29|                   43|036396BE30827DDB9575|\n",
      "|771217|Houseboat in Amst...|4068486| Danielle|               NULL|         Zuid|52.34091|  4.84802|Entire home/apt|  290|             3|               10| 2019-01-02|             0.11|                             1|               0|                    0|0363 D807 AD6C 49...|\n",
      "|771343|Rental unit in Am...|2313061|   Marcel|               NULL| Centrum-West|52.37641|  4.88303|   Private room|  150|             1|              699| 2023-09-01|             6.62|                             2|             196|                  110|0363 8C61 E9B9 55...|\n",
      "+------+--------------------+-------+---------+-------------------+-------------+--------+---------+---------------+-----+--------------+-----------------+-----------+-----------------+------------------------------+----------------+---------------------+--------------------+\n"
     ]
    }
   ],
   "source": [
    "df = spark.read.csv(\"listings.csv\", header=True, multiLine=True)\n",
    "df.show(5)"
   ]
  },
  {
   "cell_type": "markdown",
   "source": [
    "Tokenize (remove punctuation and split by word), you can do it in pure python or using ml-lib tokenizer"
   ],
   "metadata": {
    "collapsed": false
   },
   "id": "a5cdfa5a7e14a33a"
  },
  {
   "cell_type": "code",
   "execution_count": 36,
   "id": "2f5e9808-b943-46a6-ad12-97102173f0ae",
   "metadata": {
    "ExecuteTime": {
     "end_time": "2023-10-20T08:23:12.031476Z",
     "start_time": "2023-10-20T08:23:11.929531Z"
    }
   },
   "outputs": [
    {
     "name": "stdout",
     "output_type": "stream",
     "text": [
      "+------+--------------------+-------+---------+-------------------+-------------+--------+---------+---------------+-----+--------------+-----------------+-----------+-----------------+------------------------------+----------------+---------------------+--------------------+--------------------+\n",
      "|    id|                name|host_id|host_name|neighbourhood_group|neighbourhood|latitude|longitude|      room_type|price|minimum_nights|number_of_reviews|last_review|reviews_per_month|calculated_host_listings_count|availability_365|number_of_reviews_ltm|             license|               words|\n",
      "+------+--------------------+-------+---------+-------------------+-------------+--------+---------+---------------+-----+--------------+-----------------+-----------+-----------------+------------------------------+----------------+---------------------+--------------------+--------------------+\n",
      "|761411|Condo in Amsterda...|4013546|   Xsjong|               NULL|   Noord-Oost|52.40164|  4.95106|   Private room|   61|             3|              303| 2023-08-19|             2.30|                             2|             272|                   26|0363 D4AD DCF3 E7...|[condo, in, amste...|\n",
      "|768274|Rental unit in Am...|3678216|    J & R|               NULL|   Westerpark|52.38855|  4.88521|Entire home/apt|  327|             3|               78| 2023-08-16|             0.64|                             1|              16|                    6|0363 7A50 18E7 51...|[rental, unit, in...|\n",
      "|768737|Boat in Amsterdam...|3877342|   Nicole|               NULL|   Westerpark|52.37824|  4.86826|   Private room|  109|             2|              341| 2023-08-24|             2.73|                             3|              29|                   43|036396BE30827DDB9575|[boat, in, amster...|\n",
      "|771217|Houseboat in Amst...|4068486| Danielle|               NULL|         Zuid|52.34091|  4.84802|Entire home/apt|  290|             3|               10| 2019-01-02|             0.11|                             1|               0|                    0|0363 D807 AD6C 49...|[houseboat, in, a...|\n",
      "|771343|Rental unit in Am...|2313061|   Marcel|               NULL| Centrum-West|52.37641|  4.88303|   Private room|  150|             1|              699| 2023-09-01|             6.62|                             2|             196|                  110|0363 8C61 E9B9 55...|[rental, unit, in...|\n",
      "+------+--------------------+-------+---------+-------------------+-------------+--------+---------+---------------+-----+--------------+-----------------+-----------+-----------------+------------------------------+----------------+---------------------+--------------------+--------------------+\n"
     ]
    }
   ],
   "source": [
    "tokenizer = Tokenizer(inputCol=\"name\", outputCol=\"words\")\n",
    "wordData = tokenizer.transform(df)\n",
    "wordData.show(5)"
   ]
  },
  {
   "cell_type": "markdown",
   "source": [
    "Remove stopwords using ML-LIB stopwordsremover, and store in a new column called “CleanTokens”"
   ],
   "metadata": {
    "collapsed": false
   },
   "id": "5aef81fe3a240a51"
  },
  {
   "cell_type": "code",
   "execution_count": 37,
   "id": "cf87163b",
   "metadata": {
    "ExecuteTime": {
     "end_time": "2023-10-20T08:23:14.536838Z",
     "start_time": "2023-10-20T08:23:14.385962Z"
    }
   },
   "outputs": [
    {
     "name": "stdout",
     "output_type": "stream",
     "text": [
      "+------+--------------------+-------+---------+-------------------+-------------+--------+---------+---------------+-----+--------------+-----------------+-----------+-----------------+------------------------------+----------------+---------------------+--------------------+--------------------+--------------------+\n",
      "|    id|                name|host_id|host_name|neighbourhood_group|neighbourhood|latitude|longitude|      room_type|price|minimum_nights|number_of_reviews|last_review|reviews_per_month|calculated_host_listings_count|availability_365|number_of_reviews_ltm|             license|               words|         CleanTokens|\n",
      "+------+--------------------+-------+---------+-------------------+-------------+--------+---------+---------------+-----+--------------+-----------------+-----------+-----------------+------------------------------+----------------+---------------------+--------------------+--------------------+--------------------+\n",
      "|761411|Condo in Amsterda...|4013546|   Xsjong|               NULL|   Noord-Oost|52.40164|  4.95106|   Private room|   61|             3|              303| 2023-08-19|             2.30|                             2|             272|                   26|0363 D4AD DCF3 E7...|[condo, in, amste...|[condo, amsterdam...|\n",
      "|768274|Rental unit in Am...|3678216|    J & R|               NULL|   Westerpark|52.38855|  4.88521|Entire home/apt|  327|             3|               78| 2023-08-16|             0.64|                             1|              16|                    6|0363 7A50 18E7 51...|[rental, unit, in...|[rental, unit, am...|\n",
      "|768737|Boat in Amsterdam...|3877342|   Nicole|               NULL|   Westerpark|52.37824|  4.86826|   Private room|  109|             2|              341| 2023-08-24|             2.73|                             3|              29|                   43|036396BE30827DDB9575|[boat, in, amster...|[boat, amsterdam,...|\n",
      "|771217|Houseboat in Amst...|4068486| Danielle|               NULL|         Zuid|52.34091|  4.84802|Entire home/apt|  290|             3|               10| 2019-01-02|             0.11|                             1|               0|                    0|0363 D807 AD6C 49...|[houseboat, in, a...|[houseboat, amste...|\n",
      "|771343|Rental unit in Am...|2313061|   Marcel|               NULL| Centrum-West|52.37641|  4.88303|   Private room|  150|             1|              699| 2023-09-01|             6.62|                             2|             196|                  110|0363 8C61 E9B9 55...|[rental, unit, in...|[rental, unit, am...|\n",
      "+------+--------------------+-------+---------+-------------------+-------------+--------+---------+---------------+-----+--------------+-----------------+-----------+-----------------+------------------------------+----------------+---------------------+--------------------+--------------------+--------------------+\n"
     ]
    }
   ],
   "source": [
    "remover = StopWordsRemover(inputCol=\"words\", outputCol=\"CleanTokens\")\n",
    "cleanData = remover.transform(wordData)\n",
    "cleanData.show(5)"
   ]
  },
  {
   "cell_type": "markdown",
   "source": [
    "But we don’t have a stopwordsremover for all language and contexts. Create your own list of stopwords from this text (think: what is a stopword?) Remove stopwords again, and store in column “MyCleanTokens”"
   ],
   "metadata": {
    "collapsed": false
   },
   "id": "a07730f8022c5fef"
  },
  {
   "cell_type": "code",
   "execution_count": 51,
   "id": "79088e10",
   "metadata": {
    "ExecuteTime": {
     "end_time": "2023-10-20T08:29:15.708713Z",
     "start_time": "2023-10-20T08:29:15.406575Z"
    }
   },
   "outputs": [
    {
     "ename": "IllegalArgumentException",
     "evalue": "requirement failed: Output Column MyCleanTokens already exists.",
     "output_type": "error",
     "traceback": [
      "\u001B[0;31m---------------------------------------------------------------------------\u001B[0m",
      "\u001B[0;31mIllegalArgumentException\u001B[0m                  Traceback (most recent call last)",
      "Cell \u001B[0;32mIn[51], line 4\u001B[0m\n\u001B[1;32m      1\u001B[0m stop_list \u001B[38;5;241m=\u001B[39m [\u001B[38;5;124m'\u001B[39m\u001B[38;5;124mthe\u001B[39m\u001B[38;5;124m'\u001B[39m, \u001B[38;5;124m'\u001B[39m\u001B[38;5;124ma\u001B[39m\u001B[38;5;124m'\u001B[39m, \u001B[38;5;124m'\u001B[39m\u001B[38;5;124man\u001B[39m\u001B[38;5;124m'\u001B[39m, \u001B[38;5;124m'\u001B[39m\u001B[38;5;124manother\u001B[39m\u001B[38;5;124m'\u001B[39m, \u001B[38;5;124m\"\u001B[39m\u001B[38;5;124mfor\u001B[39m\u001B[38;5;124m\"\u001B[39m, \u001B[38;5;124m\"\u001B[39m\u001B[38;5;124man\u001B[39m\u001B[38;5;124m\"\u001B[39m, \u001B[38;5;124m\"\u001B[39m\u001B[38;5;124mnor\u001B[39m\u001B[38;5;124m\"\u001B[39m, \u001B[38;5;124m\"\u001B[39m\u001B[38;5;124mbut\u001B[39m\u001B[38;5;124m\"\u001B[39m, \u001B[38;5;124m\"\u001B[39m\u001B[38;5;124mor\u001B[39m\u001B[38;5;124m\"\u001B[39m, \u001B[38;5;124m\"\u001B[39m\u001B[38;5;124myet\u001B[39m\u001B[38;5;124m\"\u001B[39m, \u001B[38;5;124m\"\u001B[39m\u001B[38;5;124mso\u001B[39m\u001B[38;5;124m\"\u001B[39m, \n\u001B[1;32m      2\u001B[0m                                       \u001B[38;5;124m\"\u001B[39m\u001B[38;5;124min\u001B[39m\u001B[38;5;124m\"\u001B[39m, \u001B[38;5;124m\"\u001B[39m\u001B[38;5;124munder\u001B[39m\u001B[38;5;124m\"\u001B[39m, \u001B[38;5;124m\"\u001B[39m\u001B[38;5;124mtowards\u001B[39m\u001B[38;5;124m\"\u001B[39m, \u001B[38;5;124m\"\u001B[39m\u001B[38;5;124mbefore\u001B[39m\u001B[38;5;124m\"\u001B[39m]\n\u001B[1;32m      3\u001B[0m remover \u001B[38;5;241m=\u001B[39m StopWordsRemover(stopWords\u001B[38;5;241m=\u001B[39mstop_list, inputCol\u001B[38;5;241m=\u001B[39m\u001B[38;5;124m'\u001B[39m\u001B[38;5;124mwords\u001B[39m\u001B[38;5;124m'\u001B[39m, outputCol\u001B[38;5;241m=\u001B[39m\u001B[38;5;124m'\u001B[39m\u001B[38;5;124mMyCleanTokens\u001B[39m\u001B[38;5;124m'\u001B[39m)\n\u001B[0;32m----> 4\u001B[0m cleanData \u001B[38;5;241m=\u001B[39m \u001B[43mremover\u001B[49m\u001B[38;5;241;43m.\u001B[39;49m\u001B[43mtransform\u001B[49m\u001B[43m(\u001B[49m\u001B[43mcleanData\u001B[49m\u001B[43m)\u001B[49m\n\u001B[1;32m      5\u001B[0m cleanData\u001B[38;5;241m.\u001B[39mshow(\u001B[38;5;241m5\u001B[39m)\n",
      "File \u001B[0;32m~/anaconda/envs/igor-ucu/lib/python3.8/site-packages/pyspark/ml/base.py:262\u001B[0m, in \u001B[0;36mTransformer.transform\u001B[0;34m(self, dataset, params)\u001B[0m\n\u001B[1;32m    260\u001B[0m         \u001B[38;5;28;01mreturn\u001B[39;00m \u001B[38;5;28mself\u001B[39m\u001B[38;5;241m.\u001B[39mcopy(params)\u001B[38;5;241m.\u001B[39m_transform(dataset)\n\u001B[1;32m    261\u001B[0m     \u001B[38;5;28;01melse\u001B[39;00m:\n\u001B[0;32m--> 262\u001B[0m         \u001B[38;5;28;01mreturn\u001B[39;00m \u001B[38;5;28;43mself\u001B[39;49m\u001B[38;5;241;43m.\u001B[39;49m\u001B[43m_transform\u001B[49m\u001B[43m(\u001B[49m\u001B[43mdataset\u001B[49m\u001B[43m)\u001B[49m\n\u001B[1;32m    263\u001B[0m \u001B[38;5;28;01melse\u001B[39;00m:\n\u001B[1;32m    264\u001B[0m     \u001B[38;5;28;01mraise\u001B[39;00m \u001B[38;5;167;01mTypeError\u001B[39;00m(\u001B[38;5;124m\"\u001B[39m\u001B[38;5;124mParams must be a param map but got \u001B[39m\u001B[38;5;132;01m%s\u001B[39;00m\u001B[38;5;124m.\u001B[39m\u001B[38;5;124m\"\u001B[39m \u001B[38;5;241m%\u001B[39m \u001B[38;5;28mtype\u001B[39m(params))\n",
      "File \u001B[0;32m~/anaconda/envs/igor-ucu/lib/python3.8/site-packages/pyspark/ml/wrapper.py:398\u001B[0m, in \u001B[0;36mJavaTransformer._transform\u001B[0;34m(self, dataset)\u001B[0m\n\u001B[1;32m    395\u001B[0m \u001B[38;5;28;01massert\u001B[39;00m \u001B[38;5;28mself\u001B[39m\u001B[38;5;241m.\u001B[39m_java_obj \u001B[38;5;129;01mis\u001B[39;00m \u001B[38;5;129;01mnot\u001B[39;00m \u001B[38;5;28;01mNone\u001B[39;00m\n\u001B[1;32m    397\u001B[0m \u001B[38;5;28mself\u001B[39m\u001B[38;5;241m.\u001B[39m_transfer_params_to_java()\n\u001B[0;32m--> 398\u001B[0m \u001B[38;5;28;01mreturn\u001B[39;00m DataFrame(\u001B[38;5;28;43mself\u001B[39;49m\u001B[38;5;241;43m.\u001B[39;49m\u001B[43m_java_obj\u001B[49m\u001B[38;5;241;43m.\u001B[39;49m\u001B[43mtransform\u001B[49m\u001B[43m(\u001B[49m\u001B[43mdataset\u001B[49m\u001B[38;5;241;43m.\u001B[39;49m\u001B[43m_jdf\u001B[49m\u001B[43m)\u001B[49m, dataset\u001B[38;5;241m.\u001B[39msparkSession)\n",
      "File \u001B[0;32m~/anaconda/envs/igor-ucu/lib/python3.8/site-packages/py4j/java_gateway.py:1322\u001B[0m, in \u001B[0;36mJavaMember.__call__\u001B[0;34m(self, *args)\u001B[0m\n\u001B[1;32m   1316\u001B[0m command \u001B[38;5;241m=\u001B[39m proto\u001B[38;5;241m.\u001B[39mCALL_COMMAND_NAME \u001B[38;5;241m+\u001B[39m\\\n\u001B[1;32m   1317\u001B[0m     \u001B[38;5;28mself\u001B[39m\u001B[38;5;241m.\u001B[39mcommand_header \u001B[38;5;241m+\u001B[39m\\\n\u001B[1;32m   1318\u001B[0m     args_command \u001B[38;5;241m+\u001B[39m\\\n\u001B[1;32m   1319\u001B[0m     proto\u001B[38;5;241m.\u001B[39mEND_COMMAND_PART\n\u001B[1;32m   1321\u001B[0m answer \u001B[38;5;241m=\u001B[39m \u001B[38;5;28mself\u001B[39m\u001B[38;5;241m.\u001B[39mgateway_client\u001B[38;5;241m.\u001B[39msend_command(command)\n\u001B[0;32m-> 1322\u001B[0m return_value \u001B[38;5;241m=\u001B[39m \u001B[43mget_return_value\u001B[49m\u001B[43m(\u001B[49m\n\u001B[1;32m   1323\u001B[0m \u001B[43m    \u001B[49m\u001B[43manswer\u001B[49m\u001B[43m,\u001B[49m\u001B[43m \u001B[49m\u001B[38;5;28;43mself\u001B[39;49m\u001B[38;5;241;43m.\u001B[39;49m\u001B[43mgateway_client\u001B[49m\u001B[43m,\u001B[49m\u001B[43m \u001B[49m\u001B[38;5;28;43mself\u001B[39;49m\u001B[38;5;241;43m.\u001B[39;49m\u001B[43mtarget_id\u001B[49m\u001B[43m,\u001B[49m\u001B[43m \u001B[49m\u001B[38;5;28;43mself\u001B[39;49m\u001B[38;5;241;43m.\u001B[39;49m\u001B[43mname\u001B[49m\u001B[43m)\u001B[49m\n\u001B[1;32m   1325\u001B[0m \u001B[38;5;28;01mfor\u001B[39;00m temp_arg \u001B[38;5;129;01min\u001B[39;00m temp_args:\n\u001B[1;32m   1326\u001B[0m     \u001B[38;5;28;01mif\u001B[39;00m \u001B[38;5;28mhasattr\u001B[39m(temp_arg, \u001B[38;5;124m\"\u001B[39m\u001B[38;5;124m_detach\u001B[39m\u001B[38;5;124m\"\u001B[39m):\n",
      "File \u001B[0;32m~/anaconda/envs/igor-ucu/lib/python3.8/site-packages/pyspark/errors/exceptions/captured.py:185\u001B[0m, in \u001B[0;36mcapture_sql_exception.<locals>.deco\u001B[0;34m(*a, **kw)\u001B[0m\n\u001B[1;32m    181\u001B[0m converted \u001B[38;5;241m=\u001B[39m convert_exception(e\u001B[38;5;241m.\u001B[39mjava_exception)\n\u001B[1;32m    182\u001B[0m \u001B[38;5;28;01mif\u001B[39;00m \u001B[38;5;129;01mnot\u001B[39;00m \u001B[38;5;28misinstance\u001B[39m(converted, UnknownException):\n\u001B[1;32m    183\u001B[0m     \u001B[38;5;66;03m# Hide where the exception came from that shows a non-Pythonic\u001B[39;00m\n\u001B[1;32m    184\u001B[0m     \u001B[38;5;66;03m# JVM exception message.\u001B[39;00m\n\u001B[0;32m--> 185\u001B[0m     \u001B[38;5;28;01mraise\u001B[39;00m converted \u001B[38;5;28;01mfrom\u001B[39;00m \u001B[38;5;28;01mNone\u001B[39;00m\n\u001B[1;32m    186\u001B[0m \u001B[38;5;28;01melse\u001B[39;00m:\n\u001B[1;32m    187\u001B[0m     \u001B[38;5;28;01mraise\u001B[39;00m\n",
      "\u001B[0;31mIllegalArgumentException\u001B[0m: requirement failed: Output Column MyCleanTokens already exists."
     ]
    }
   ],
   "source": [
    "stop_list = ['the', 'a', 'an', 'another', \"for\", \"an\", \"nor\", \"but\", \"or\", \"yet\", \"so\", \n",
    "                                      \"in\", \"under\", \"towards\", \"before\"]\n",
    "remover = StopWordsRemover(stopWords=stop_list, inputCol='words', outputCol='MyCleanTokens')\n",
    "cleanData = remover.transform(cleanData)\n",
    "cleanData.show(5)"
   ]
  },
  {
   "cell_type": "markdown",
   "source": [
    "Perform TFIDF in a new column called “VectorSpace”"
   ],
   "metadata": {
    "collapsed": false
   },
   "id": "674bb82c3d6416fe"
  },
  {
   "cell_type": "code",
   "execution_count": 43,
   "id": "ba62a4d0",
   "metadata": {
    "ExecuteTime": {
     "end_time": "2023-10-20T08:24:40.550139Z",
     "start_time": "2023-10-20T08:24:40.150720Z"
    }
   },
   "outputs": [
    {
     "name": "stdout",
     "output_type": "stream",
     "text": [
      "+--------------------+--------------------+\n",
      "|       MyCleanTokens|            features|\n",
      "+--------------------+--------------------+\n",
      "|[condo, amsterdam...|(20,[1,2,7,10,11,...|\n",
      "|[rental, unit, am...|(20,[1,2,5,11,12,...|\n",
      "|[boat, amsterdam,...|(20,[0,1,2,5,11,1...|\n",
      "|[houseboat, amste...|(20,[0,1,5,6,11,1...|\n",
      "|[rental, unit, am...|(20,[1,2,9,11,12,...|\n",
      "+--------------------+--------------------+\n"
     ]
    }
   ],
   "source": [
    "hashingTF = HashingTF(inputCol=\"MyCleanTokens\", outputCol=\"VectorSpace\", numFeatures=20)\n",
    "featurizedData = hashingTF.transform(cleanData)\n",
    "\n",
    "idf = IDF(inputCol=\"VectorSpace\", outputCol=\"features\")\n",
    "idfModel = idf.fit(featurizedData)\n",
    "results = idfModel.transform(featurizedData)\n",
    "\n",
    "results.select(\"MyCleanTokens\", \"features\").show(5)"
   ]
  },
  {
   "cell_type": "markdown",
   "id": "31413af3",
   "metadata": {},
   "source": [
    "## Homework (Optional)"
   ]
  },
  {
   "cell_type": "markdown",
   "source": [
    "In a new column(‘word2vec’), repeat the procedure using word2vec instead of TF-IDF."
   ],
   "metadata": {
    "collapsed": false
   },
   "id": "80f1ffc194d6d238"
  },
  {
   "cell_type": "code",
   "execution_count": 44,
   "id": "79972b1b",
   "metadata": {
    "ExecuteTime": {
     "end_time": "2023-10-20T08:25:02.165384Z",
     "start_time": "2023-10-20T08:25:01.417880Z"
    }
   },
   "outputs": [
    {
     "name": "stdout",
     "output_type": "stream",
     "text": [
      "+--------------------+--------------------+\n",
      "|       MyCleanTokens|            word2vec|\n",
      "+--------------------+--------------------+\n",
      "|[condo, amsterdam...|[0.20106191134878...|\n",
      "|[rental, unit, am...|[0.38473468965717...|\n",
      "|[boat, amsterdam,...|[0.19146950027117...|\n",
      "|[houseboat, amste...|[0.06947926431894...|\n",
      "|[rental, unit, am...|[0.30920413980881...|\n",
      "+--------------------+--------------------+\n"
     ]
    }
   ],
   "source": [
    "word2Vec = Word2Vec(vectorSize=20, minCount=0, inputCol=\"MyCleanTokens\", outputCol=\"word2vec\")\n",
    "model = word2Vec.fit(results)\n",
    "result = model.transform(results)\n",
    "\n",
    "result.select(\"MyCleanTokens\", \"word2vec\").show(5)"
   ]
  },
  {
   "cell_type": "markdown",
   "source": [
    "Show first row word2vec vector"
   ],
   "metadata": {
    "collapsed": false
   },
   "id": "74a3ef727b8a4830"
  },
  {
   "cell_type": "code",
   "execution_count": 45,
   "id": "d77f3c33",
   "metadata": {
    "ExecuteTime": {
     "end_time": "2023-10-20T08:25:05.128521Z",
     "start_time": "2023-10-20T08:25:05.035056Z"
    }
   },
   "outputs": [
    {
     "data": {
      "text/plain": "Row(word2vec=DenseVector([0.2011, 0.2439, -0.1676, -0.1466, 0.0506, -0.1991, 0.0455, 0.4709, -0.2326, 0.2024, -0.1933, -0.0018, 0.1727, -0.2837, -0.1952, -0.2497, -0.6426, -0.0711, 0.3715, -0.1627]))"
     },
     "execution_count": 45,
     "metadata": {},
     "output_type": "execute_result"
    }
   ],
   "source": [
    "result.select(\"word2vec\").first()"
   ]
  },
  {
   "cell_type": "markdown",
   "id": "5d31bd2a",
   "metadata": {},
   "source": [
    "## Challenge II"
   ]
  },
  {
   "cell_type": "markdown",
   "source": [
    "Take the first 500 flats in the list"
   ],
   "metadata": {
    "collapsed": false
   },
   "id": "3e6c6b7c23e348fe"
  },
  {
   "cell_type": "code",
   "execution_count": 46,
   "id": "49bba636",
   "metadata": {
    "ExecuteTime": {
     "end_time": "2023-10-20T08:25:11.667025Z",
     "start_time": "2023-10-20T08:25:11.553958Z"
    }
   },
   "outputs": [
    {
     "data": {
      "text/plain": "500"
     },
     "execution_count": 46,
     "metadata": {},
     "output_type": "execute_result"
    }
   ],
   "source": [
    "mysample = result.limit(500)\n",
    "mysample.count()"
   ]
  },
  {
   "cell_type": "markdown",
   "source": [
    "Find the 3 nearest neighbors for each element in that subset (candidates and query points are within the sample of 500) USING KNN"
   ],
   "metadata": {
    "collapsed": false
   },
   "id": "f0ee23fade3c14e2"
  },
  {
   "cell_type": "code",
   "execution_count": 47,
   "id": "fc90bd14",
   "metadata": {
    "ExecuteTime": {
     "end_time": "2023-10-20T08:25:25.052643Z",
     "start_time": "2023-10-20T08:25:24.792974Z"
    }
   },
   "outputs": [
    {
     "name": "stdout",
     "output_type": "stream",
     "text": [
      "id ['761411', '634170', '721291', '730916']\n"
     ]
    }
   ],
   "source": [
    "mysample_pd = mysample.toPandas()\n",
    "tfidf = mysample_pd['features'].tolist()\n",
    "text = mysample_pd['name'].tolist()\n",
    "id_ = mysample_pd['id'].tolist()\n",
    "\n",
    "# fit nearest neighbors\n",
    "nbrs = NearestNeighbors(n_neighbors=4).fit(tfidf)\n",
    "distances, indices = nbrs.kneighbors(tfidf[:5])\n",
    "\n",
    "# show 3 nearest neighbors for first row except itself\n",
    "print('id', [id_[i] for i in indices[0]])"
   ]
  },
  {
   "cell_type": "markdown",
   "source": [
    "Find the 3 nearest neighbors for each element in that subset (candidates and query points are within the sample of 500) USING LSH with sklearn"
   ],
   "metadata": {
    "collapsed": false
   },
   "id": "cf4ebe3413ffdf4f"
  },
  {
   "cell_type": "code",
   "execution_count": 48,
   "id": "a759685f",
   "metadata": {
    "ExecuteTime": {
     "end_time": "2023-10-20T08:27:28.528327Z",
     "start_time": "2023-10-20T08:27:28.486075Z"
    }
   },
   "outputs": [
    {
     "name": "stdout",
     "output_type": "stream",
     "text": [
      "LSHForest could not be imported\n"
     ]
    }
   ],
   "source": [
    "# IT IS DEPRECATED or Install 3 years old version of sklearn 0.16.1\n",
    "try:\n",
    "    from sklearn.neighbors import LSHForest\n",
    "    \n",
    "    mysample_pd = mysample.toPandas()\n",
    "    tfidf = mysample_pd['features'].tolist()\n",
    "    text = mysample_pd['name'].tolist()\n",
    "    id_ = mysample_pd['id'].tolist()\n",
    "    \n",
    "    lshf = LSHForest(random_state=42)\n",
    "    lshf.fit(tfidf)\n",
    "    \n",
    "    # get the feature vectore of the first row\n",
    "    query = tfidf[0]\n",
    "    id_ = id_[0]\n",
    "    \n",
    "    # show 3 nearest neighbors for first row except itself\n",
    "    distances, indices = lshf.kneighbors([query], n_neighbors=4)\n",
    "    for i in range(1, len(distances[0])):\n",
    "        print(\"distance: \", distances[0][i], \"id: \", id_[indices[0][i]])\n",
    "except ImportError:\n",
    "    print(\"LSHForest could not be imported\")"
   ]
  },
  {
   "cell_type": "markdown",
   "source": [
    "Find the 3 nearest neighbors for each element in that subset (candidates and query points are within the sample of 500) USING LSH with pyspark"
   ],
   "metadata": {
    "collapsed": false
   },
   "id": "d3d86be2c0e2ce48"
  },
  {
   "cell_type": "code",
   "execution_count": 49,
   "id": "fb01e17c",
   "metadata": {
    "ExecuteTime": {
     "end_time": "2023-10-20T08:27:44.212585Z",
     "start_time": "2023-10-20T08:27:43.738409Z"
    }
   },
   "outputs": [
    {
     "name": "stdout",
     "output_type": "stream",
     "text": [
      "+-------+--------------------+-------+----------------+-------------------+-------------+--------+---------+---------------+-----+--------------+-----------------+-----------+-----------------+------------------------------+----------------+---------------------+--------------------+--------------------+--------------------+--------------------+--------------------+--------------------+--------------------+--------------------+------------------+\n",
      "|     id|                name|host_id|       host_name|neighbourhood_group|neighbourhood|latitude|longitude|      room_type|price|minimum_nights|number_of_reviews|last_review|reviews_per_month|calculated_host_listings_count|availability_365|number_of_reviews_ltm|             license|               words|         CleanTokens|       MyCleanTokens|         VectorSpace|            features|            word2vec|              hashes|           distCol|\n",
      "+-------+--------------------+-------+----------------+-------------------+-------------+--------+---------+---------------+-----+--------------+-----------------+-----------+-----------------+------------------------------+----------------+---------------------+--------------------+--------------------+--------------------+--------------------+--------------------+--------------------+--------------------+--------------------+------------------+\n",
      "|1447217|Condo in Amsterda...|7767867|Martijn & Betina|               NULL|Bos en Lommer|52.37591|   4.8479|   Private room|  110|             7|              290| 2023-08-06|             2.40|                             1|              62|                   19|0363 D931 EAD5 9D...|[condo, in, amste...|[condo, amsterdam...|[condo, amsterdam...|(20,[1,2,7,10,11,...|(20,[1,2,7,10,11,...|[0.22259830204503...|[[4.07624372E8], ...|0.1428571428571429|\n",
      "|2175600|Loft in Amsterdam...|6630741|    Marie-Sophie|               NULL|         Zuid|52.35469|  4.85663|Entire home/apt|  190|             1|              115| 2023-07-09|             1.02|                             1|             233|                    6|0363 593F 238D 56...|[loft, in, amster...|[loft, amsterdam,...|[loft, amsterdam,...|(20,[1,2,7,10,11,...|(20,[1,2,7,10,11,...|[0.25934196492800...|[[4.07624372E8], ...|0.1428571428571429|\n",
      "| 721291|Condo in Amsterda...|3723928|        Katarina|               NULL|   Westerpark|52.37752|  4.87086|   Private room|   79|             2|              209| 2023-08-12|             1.58|                             1|             165|                   10|0363 0457 C25F CA...|[condo, in, amste...|[condo, amsterdam...|[condo, amsterdam...|(20,[1,2,7,10,11,...|(20,[1,2,7,10,11,...|[0.16316486416118...|[[4.07624372E8], ...|              0.25|\n",
      "+-------+--------------------+-------+----------------+-------------------+-------------+--------+---------+---------------+-----+--------------+-----------------+-----------+-----------------+------------------------------+----------------+---------------------+--------------------+--------------------+--------------------+--------------------+--------------------+--------------------+--------------------+--------------------+------------------+\n"
     ]
    }
   ],
   "source": [
    "mh = MinHashLSH(inputCol=\"features\", outputCol=\"hashes\", numHashTables=3)\n",
    "model = mh.fit(mysample)\n",
    "\n",
    "# get the feature vector of the first row\n",
    "key =  mysample.select(\"features\").take(1)[0].features\n",
    "id_ = mysample.select(\"id\").take(1)[0].id\n",
    "\n",
    "\n",
    "# show 3 nearest neighbors for first row except itself\n",
    "model.approxNearestNeighbors(mysample, key, 4).filter(col(\"id\") != id_).show()"
   ]
  },
  {
   "cell_type": "markdown",
   "id": "8f36b16b",
   "metadata": {},
   "source": [
    "## Challenge III: Homework"
   ]
  },
  {
   "cell_type": "markdown",
   "source": [
    "Repeat the LSH experiment for the full Barcelona dataset, and develop and spark boosted methodology to have an efficient parameter tuning process."
   ],
   "metadata": {
    "collapsed": false
   },
   "id": "21e2e8b670d448cf"
  },
  {
   "cell_type": "code",
   "execution_count": 23,
   "outputs": [
    {
     "name": "stdout",
     "output_type": "stream",
     "text": [
      "--2023-10-20 10:28:43--  http://data.insideairbnb.com/spain/catalonia/barcelona/2023-09-06/visualisations/listings.csv\r\n",
      "Resolving data.insideairbnb.com (data.insideairbnb.com)... 52.217.46.139, 52.216.42.125, 52.216.106.82, ...\r\n",
      "Connecting to data.insideairbnb.com (data.insideairbnb.com)|52.217.46.139|:80... connected.\r\n",
      "HTTP request sent, awaiting response... 200 OK\r\n",
      "Length: 3664972 (3.5M) [application/csv]\r\n",
      "Saving to: ‘listings_barcelona.csv’\r\n",
      "\r\n",
      "listings_barcelona. 100%[===================>]   3.50M  2.39MB/s    in 1.5s    \r\n",
      "\r\n",
      "2023-10-20 10:28:45 (2.39 MB/s) - ‘listings_barcelona.csv’ saved [3664972/3664972]\r\n",
      "\r\n"
     ]
    }
   ],
   "source": [
    "!wget http://data.insideairbnb.com/spain/catalonia/barcelona/2023-09-06/visualisations/listings.csv -O listings_barcelona.csv "
   ],
   "metadata": {
    "collapsed": false,
    "ExecuteTime": {
     "end_time": "2023-10-20T07:28:45.296006Z",
     "start_time": "2023-10-20T07:28:43.290347Z"
    }
   },
   "id": "ce81019dc53e84ea"
  },
  {
   "cell_type": "code",
   "execution_count": 50,
   "id": "907808dc",
   "metadata": {
    "ExecuteTime": {
     "end_time": "2023-10-20T08:28:09.594431Z",
     "start_time": "2023-10-20T08:28:09.396075Z"
    }
   },
   "outputs": [
    {
     "name": "stdout",
     "output_type": "stream",
     "text": [
      "+------+--------------------+-------+----------------+-------------------+--------------------+-----------------+-----------------+---------------+-----+--------------+-----------------+-----------+-----------------+------------------------------+----------------+---------------------+-----------+\n",
      "|    id|                name|host_id|       host_name|neighbourhood_group|       neighbourhood|         latitude|        longitude|      room_type|price|minimum_nights|number_of_reviews|last_review|reviews_per_month|calculated_host_listings_count|availability_365|number_of_reviews_ltm|    license|\n",
      "+------+--------------------+-------+----------------+-------------------+--------------------+-----------------+-----------------+---------------+-----+--------------+-----------------+-----------+-----------------+------------------------------+----------------+---------------------+-----------+\n",
      "| 18674|Rental unit in Ba...|  71615|Mireia And Maria|           Eixample|  la Sagrada Família|         41.40556|          2.17262|Entire home/apt|  202|             1|               38| 2023-06-26|             0.30|                            30|              34|                    8|HUTB-002062|\n",
      "| 23197|Rental unit in Sa...|  90417|  Etain (Marnie)|         Sant Martí|el Besòs i el Mar...|41.41243172529066|2.219750335269476|Entire home/apt|  255|             3|               73| 2023-08-15|             0.48|                             2|             150|                   11| HUTB005057|\n",
      "| 32711|Rental unit in Ba...| 135703|            Nick|             Gràcia|el Camp d'en Gras...|         41.40566|          2.17015|Entire home/apt|  171|            21|               95| 2023-08-18|             0.64|                             3|             310|                   21|HUTB-001722|\n",
      "|171646|Rental unit in Ba...| 400154|          Mireia|         Sant Martí|             el Clot|         41.40671|          2.18592|Entire home/apt|  152|             3|               81| 2023-08-27|             0.65|                             9|              58|                   22|HUTB-004663|\n",
      "|171816|Rental unit in Ba...| 400154|          Mireia|         Sant Martí|             el Clot|         41.40681|          2.18553|Entire home/apt|  150|             3|               49| 2023-08-27|             0.39|                             9|              67|                   27|HUTB-004664|\n",
      "+------+--------------------+-------+----------------+-------------------+--------------------+-----------------+-----------------+---------------+-----+--------------+-----------------+-----------+-----------------+------------------------------+----------------+---------------------+-----------+\n"
     ]
    }
   ],
   "source": [
    "df = spark.read.csv(\"listings_barcelona.csv\", header=True, multiLine=True)\n",
    "df.show(5)"
   ]
  },
  {
   "cell_type": "code",
   "execution_count": 52,
   "outputs": [
    {
     "data": {
      "text/plain": "18086"
     },
     "execution_count": 52,
     "metadata": {},
     "output_type": "execute_result"
    }
   ],
   "source": [
    "df.count()"
   ],
   "metadata": {
    "collapsed": false,
    "ExecuteTime": {
     "end_time": "2023-10-20T08:29:52.212589Z",
     "start_time": "2023-10-20T08:29:52.076927Z"
    }
   },
   "id": "ddc4c6582c6c6a88"
  }
 ],
 "metadata": {
  "kernelspec": {
   "display_name": "Python 3 (ipykernel)",
   "language": "python",
   "name": "python3"
  },
  "language_info": {
   "codemirror_mode": {
    "name": "ipython",
    "version": 3
   },
   "file_extension": ".py",
   "mimetype": "text/x-python",
   "name": "python",
   "nbconvert_exporter": "python",
   "pygments_lexer": "ipython3",
   "version": "3.11.6"
  }
 },
 "nbformat": 4,
 "nbformat_minor": 5
}
