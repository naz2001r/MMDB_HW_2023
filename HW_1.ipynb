{
 "cells": [
  {
   "cell_type": "markdown",
   "id": "be8fefbf",
   "metadata": {},
   "source": [
    "# Homework 1 (include all parts from challenge 1+optional, 2 and homework)\n",
    "Authors:\n",
    "- Nazarii Drushchak\n",
    "- Igor Babin\n",
    "- Uliana Zbezhkhovska"
   ]
  },
  {
   "cell_type": "code",
   "execution_count": 12,
   "id": "1d8db555-03c4-49cc-84be-497d6dc4f1f2",
   "metadata": {},
   "outputs": [
    {
     "name": "stdout",
     "output_type": "stream",
     "text": [
      "Requirement already satisfied: findspark in /opt/conda/lib/python3.11/site-packages (2.0.1)\n"
     ]
    }
   ],
   "source": [
    "!pip install findspark"
   ]
  },
  {
   "cell_type": "code",
   "execution_count": 15,
   "id": "32012033-9003-4c00-96a6-006006f4d387",
   "metadata": {},
   "outputs": [],
   "source": [
    "import findspark\n",
    "findspark.init()"
   ]
  },
  {
   "cell_type": "code",
   "execution_count": 16,
   "id": "db68f88c-6305-4e69-9e04-d483bb43a9e7",
   "metadata": {},
   "outputs": [],
   "source": [
    "import pyspark\n",
    "from pyspark.sql import SparkSession\n",
    "from pyspark.sql.types import *\n",
    "from pyspark.sql.functions import col, avg, when\n",
    "from pyspark.ml.feature import HashingTF, IDF, Tokenizer, StopWordsRemover\n",
    "\n",
    "import pandas as pd"
   ]
  },
  {
   "cell_type": "code",
   "execution_count": 17,
   "id": "ea159999-9445-4d0c-a2a9-8eb7eb700255",
   "metadata": {},
   "outputs": [
    {
     "data": {
      "text/html": [
       "\n",
       "            <div>\n",
       "                <p><b>SparkSession - in-memory</b></p>\n",
       "                \n",
       "        <div>\n",
       "            <p><b>SparkContext</b></p>\n",
       "\n",
       "            <p><a href=\"http://2999d230af1f:4040\">Spark UI</a></p>\n",
       "\n",
       "            <dl>\n",
       "              <dt>Version</dt>\n",
       "                <dd><code>v3.5.0</code></dd>\n",
       "              <dt>Master</dt>\n",
       "                <dd><code>local[*]</code></dd>\n",
       "              <dt>AppName</dt>\n",
       "                <dd><code>pyspark-shell</code></dd>\n",
       "            </dl>\n",
       "        </div>\n",
       "        \n",
       "            </div>\n",
       "        "
      ],
      "text/plain": [
       "<pyspark.sql.session.SparkSession at 0xffff58351a10>"
      ]
     },
     "execution_count": 17,
     "metadata": {},
     "output_type": "execute_result"
    }
   ],
   "source": [
    "sc = pyspark.SparkContext('local[*]')\n",
    "spark = SparkSession(sc)\n",
    "spark"
   ]
  },
  {
   "cell_type": "markdown",
   "id": "1e49b5ac-b515-40f3-91a2-75180e325cb2",
   "metadata": {},
   "source": [
    "## Challenge I"
   ]
  },
  {
   "cell_type": "code",
   "execution_count": null,
   "id": "ce3ecb16-2896-4a6a-9986-ca121098f0d6",
   "metadata": {},
   "outputs": [
    {
     "name": "stdout",
     "output_type": "stream",
     "text": [
      "--2023-10-15 10:52:19--  http://data.insideairbnb.com/the-netherlands/north-holland/amsterdam/2023-09-03/visualisations/listings.csv\n",
      "Resolving data.insideairbnb.com (data.insideairbnb.com)... 16.182.104.245, 54.231.163.237, 54.231.196.213, ...\n",
      "Connecting to data.insideairbnb.com (data.insideairbnb.com)|16.182.104.245|:80... connected.\n",
      "HTTP request sent, awaiting response... 200 OK\n",
      "Length: 1698431 (1.6M) [application/csv]\n",
      "Saving to: ‘listings.csv’\n",
      "\n",
      "listings.csv        100%[===================>]   1.62M  1.36MB/s    in 1.2s    \n",
      "\n",
      "2023-10-15 10:52:20 (1.36 MB/s) - ‘listings.csv’ saved [1698431/1698431]\n",
      "\n"
     ]
    }
   ],
   "source": [
    "!wget http://data.insideairbnb.com/the-netherlands/north-holland/amsterdam/2023-09-03/visualisations/listings.csv"
   ]
  },
  {
   "cell_type": "code",
   "execution_count": 20,
   "id": "22130b8f-06df-436b-8db4-f8383622509b",
   "metadata": {},
   "outputs": [
    {
     "name": "stdout",
     "output_type": "stream",
     "text": [
      "+-------+--------------------+-------+---------------+-------------------+--------------------+--------+---------+---------------+-----+--------------+-----------------+-----------+-----------------+------------------------------+----------------+---------------------+--------------------+\n",
      "|     id|                name|host_id|      host_name|neighbourhood_group|       neighbourhood|latitude|longitude|      room_type|price|minimum_nights|number_of_reviews|last_review|reviews_per_month|calculated_host_listings_count|availability_365|number_of_reviews_ltm|             license|\n",
      "+-------+--------------------+-------+---------------+-------------------+--------------------+--------+---------+---------------+-----+--------------+-----------------+-----------+-----------------+------------------------------+----------------+---------------------+--------------------+\n",
      "| 761411|Condo in Amsterda...|4013546|         Xsjong|               NULL|          Noord-Oost|52.40164|  4.95106|   Private room|   61|             3|              303| 2023-08-19|             2.30|                             2|             272|                   26|0363 D4AD DCF3 E7...|\n",
      "| 768274|Rental unit in Am...|3678216|          J & R|               NULL|          Westerpark|52.38855|  4.88521|Entire home/apt|  327|             3|               78| 2023-08-16|             0.64|                             1|              16|                    6|0363 7A50 18E7 51...|\n",
      "| 768737|Boat in Amsterdam...|3877342|         Nicole|               NULL|          Westerpark|52.37824|  4.86826|   Private room|  109|             2|              341| 2023-08-24|             2.73|                             3|              29|                   43|036396BE30827DDB9575|\n",
      "| 771217|Houseboat in Amst...|4068486|       Danielle|               NULL|                Zuid|52.34091|  4.84802|Entire home/apt|  290|             3|               10| 2019-01-02|             0.11|                             1|               0|                    0|0363 D807 AD6C 49...|\n",
      "| 771343|Rental unit in Am...|2313061|         Marcel|               NULL|        Centrum-West|52.37641|  4.88303|   Private room|  150|             1|              699| 2023-09-01|             6.62|                             2|             196|                  110|0363 8C61 E9B9 55...|\n",
      "| 771758|Bed and breakfast...| 195859|         Gianni|               NULL|         Slotervaart|52.34985|  4.83578|   Private room|   75|             2|              278| 2023-08-20|             2.20|                             2|             290|                   64|0363 BCBA 6311 32...|\n",
      "| 775655|Rental unit in Am...|4091515|          Karin|               NULL|        Centrum-Oost|52.37026|  4.89931|   Private room|  159|             2|              465| 2023-08-21|             3.54|                             2|             338|                   49|0363 E246 20B0 E6...|\n",
      "|1086763|Bed and breakfast...|3899684|City Apartments|               NULL|        Centrum-Oost|52.36256|  4.89809|   Private room|  221|             3|               41| 2023-05-30|             0.38|                             4|             138|                   15|0363 3D40 C88D 9D...|\n",
      "|   2818|Condo in Amsterda...|   3159|         Daniel|               NULL|Oostelijk Havenge...|52.36435|  4.94358|   Private room|   69|             3|              354| 2023-08-31|             2.01|                             1|               7|                   49|0363 5F3A 5684 67...|\n",
      "|  20168|Townhouse in Amst...|  59484|      Alexander|               NULL|        Centrum-Oost|52.36407|  4.89393|   Private room|  146|             1|              347| 2023-08-22|             2.11|                             2|             172|                    8|0363 CBB3 2C10 0C...|\n",
      "+-------+--------------------+-------+---------------+-------------------+--------------------+--------+---------+---------------+-----+--------------+-----------------+-----------+-----------------+------------------------------+----------------+---------------------+--------------------+\n",
      "only showing top 10 rows\n",
      "\n"
     ]
    }
   ],
   "source": [
    "df = spark.read.csv(\"listings.csv\", header=True, multiLine=True)\n",
    "df.show(10)"
   ]
  },
  {
   "cell_type": "code",
   "execution_count": 21,
   "id": "2f5e9808-b943-46a6-ad12-97102173f0ae",
   "metadata": {},
   "outputs": [
    {
     "name": "stdout",
     "output_type": "stream",
     "text": [
      "+-------+--------------------+-------+---------------+-------------------+--------------------+--------+---------+---------------+-----+--------------+-----------------+-----------+-----------------+------------------------------+----------------+---------------------+--------------------+--------------------+\n",
      "|     id|                name|host_id|      host_name|neighbourhood_group|       neighbourhood|latitude|longitude|      room_type|price|minimum_nights|number_of_reviews|last_review|reviews_per_month|calculated_host_listings_count|availability_365|number_of_reviews_ltm|             license|               words|\n",
      "+-------+--------------------+-------+---------------+-------------------+--------------------+--------+---------+---------------+-----+--------------+-----------------+-----------+-----------------+------------------------------+----------------+---------------------+--------------------+--------------------+\n",
      "| 761411|Condo in Amsterda...|4013546|         Xsjong|               NULL|          Noord-Oost|52.40164|  4.95106|   Private room|   61|             3|              303| 2023-08-19|             2.30|                             2|             272|                   26|0363 D4AD DCF3 E7...|[condo, in, amste...|\n",
      "| 768274|Rental unit in Am...|3678216|          J & R|               NULL|          Westerpark|52.38855|  4.88521|Entire home/apt|  327|             3|               78| 2023-08-16|             0.64|                             1|              16|                    6|0363 7A50 18E7 51...|[rental, unit, in...|\n",
      "| 768737|Boat in Amsterdam...|3877342|         Nicole|               NULL|          Westerpark|52.37824|  4.86826|   Private room|  109|             2|              341| 2023-08-24|             2.73|                             3|              29|                   43|036396BE30827DDB9575|[boat, in, amster...|\n",
      "| 771217|Houseboat in Amst...|4068486|       Danielle|               NULL|                Zuid|52.34091|  4.84802|Entire home/apt|  290|             3|               10| 2019-01-02|             0.11|                             1|               0|                    0|0363 D807 AD6C 49...|[houseboat, in, a...|\n",
      "| 771343|Rental unit in Am...|2313061|         Marcel|               NULL|        Centrum-West|52.37641|  4.88303|   Private room|  150|             1|              699| 2023-09-01|             6.62|                             2|             196|                  110|0363 8C61 E9B9 55...|[rental, unit, in...|\n",
      "| 771758|Bed and breakfast...| 195859|         Gianni|               NULL|         Slotervaart|52.34985|  4.83578|   Private room|   75|             2|              278| 2023-08-20|             2.20|                             2|             290|                   64|0363 BCBA 6311 32...|[bed, and, breakf...|\n",
      "| 775655|Rental unit in Am...|4091515|          Karin|               NULL|        Centrum-Oost|52.37026|  4.89931|   Private room|  159|             2|              465| 2023-08-21|             3.54|                             2|             338|                   49|0363 E246 20B0 E6...|[rental, unit, in...|\n",
      "|1086763|Bed and breakfast...|3899684|City Apartments|               NULL|        Centrum-Oost|52.36256|  4.89809|   Private room|  221|             3|               41| 2023-05-30|             0.38|                             4|             138|                   15|0363 3D40 C88D 9D...|[bed, and, breakf...|\n",
      "|   2818|Condo in Amsterda...|   3159|         Daniel|               NULL|Oostelijk Havenge...|52.36435|  4.94358|   Private room|   69|             3|              354| 2023-08-31|             2.01|                             1|               7|                   49|0363 5F3A 5684 67...|[condo, in, amste...|\n",
      "|  20168|Townhouse in Amst...|  59484|      Alexander|               NULL|        Centrum-Oost|52.36407|  4.89393|   Private room|  146|             1|              347| 2023-08-22|             2.11|                             2|             172|                    8|0363 CBB3 2C10 0C...|[townhouse, in, a...|\n",
      "+-------+--------------------+-------+---------------+-------------------+--------------------+--------+---------+---------------+-----+--------------+-----------------+-----------+-----------------+------------------------------+----------------+---------------------+--------------------+--------------------+\n",
      "only showing top 10 rows\n",
      "\n"
     ]
    }
   ],
   "source": [
    "# Tokenize (remove punctuation and split by word), you can do it in pure python or using ml-lib tokenizer\n",
    "tokenizer = Tokenizer(inputCol=\"name\", outputCol=\"words\")\n",
    "wordData = tokenizer.transform(df)\n",
    "wordData.show(10)"
   ]
  },
  {
   "cell_type": "code",
   "execution_count": 22,
   "id": "cf87163b",
   "metadata": {},
   "outputs": [
    {
     "name": "stdout",
     "output_type": "stream",
     "text": [
      "+-------+--------------------+-------+---------------+-------------------+--------------------+--------+---------+---------------+-----+--------------+-----------------+-----------+-----------------+------------------------------+----------------+---------------------+--------------------+--------------------+--------------------+\n",
      "|     id|                name|host_id|      host_name|neighbourhood_group|       neighbourhood|latitude|longitude|      room_type|price|minimum_nights|number_of_reviews|last_review|reviews_per_month|calculated_host_listings_count|availability_365|number_of_reviews_ltm|             license|               words|         CleanTokens|\n",
      "+-------+--------------------+-------+---------------+-------------------+--------------------+--------+---------+---------------+-----+--------------+-----------------+-----------+-----------------+------------------------------+----------------+---------------------+--------------------+--------------------+--------------------+\n",
      "| 761411|Condo in Amsterda...|4013546|         Xsjong|               NULL|          Noord-Oost|52.40164|  4.95106|   Private room|   61|             3|              303| 2023-08-19|             2.30|                             2|             272|                   26|0363 D4AD DCF3 E7...|[condo, in, amste...|[condo, amsterdam...|\n",
      "| 768274|Rental unit in Am...|3678216|          J & R|               NULL|          Westerpark|52.38855|  4.88521|Entire home/apt|  327|             3|               78| 2023-08-16|             0.64|                             1|              16|                    6|0363 7A50 18E7 51...|[rental, unit, in...|[rental, unit, am...|\n",
      "| 768737|Boat in Amsterdam...|3877342|         Nicole|               NULL|          Westerpark|52.37824|  4.86826|   Private room|  109|             2|              341| 2023-08-24|             2.73|                             3|              29|                   43|036396BE30827DDB9575|[boat, in, amster...|[boat, amsterdam,...|\n",
      "| 771217|Houseboat in Amst...|4068486|       Danielle|               NULL|                Zuid|52.34091|  4.84802|Entire home/apt|  290|             3|               10| 2019-01-02|             0.11|                             1|               0|                    0|0363 D807 AD6C 49...|[houseboat, in, a...|[houseboat, amste...|\n",
      "| 771343|Rental unit in Am...|2313061|         Marcel|               NULL|        Centrum-West|52.37641|  4.88303|   Private room|  150|             1|              699| 2023-09-01|             6.62|                             2|             196|                  110|0363 8C61 E9B9 55...|[rental, unit, in...|[rental, unit, am...|\n",
      "| 771758|Bed and breakfast...| 195859|         Gianni|               NULL|         Slotervaart|52.34985|  4.83578|   Private room|   75|             2|              278| 2023-08-20|             2.20|                             2|             290|                   64|0363 BCBA 6311 32...|[bed, and, breakf...|[bed, breakfast, ...|\n",
      "| 775655|Rental unit in Am...|4091515|          Karin|               NULL|        Centrum-Oost|52.37026|  4.89931|   Private room|  159|             2|              465| 2023-08-21|             3.54|                             2|             338|                   49|0363 E246 20B0 E6...|[rental, unit, in...|[rental, unit, am...|\n",
      "|1086763|Bed and breakfast...|3899684|City Apartments|               NULL|        Centrum-Oost|52.36256|  4.89809|   Private room|  221|             3|               41| 2023-05-30|             0.38|                             4|             138|                   15|0363 3D40 C88D 9D...|[bed, and, breakf...|[bed, breakfast, ...|\n",
      "|   2818|Condo in Amsterda...|   3159|         Daniel|               NULL|Oostelijk Havenge...|52.36435|  4.94358|   Private room|   69|             3|              354| 2023-08-31|             2.01|                             1|               7|                   49|0363 5F3A 5684 67...|[condo, in, amste...|[condo, amsterdam...|\n",
      "|  20168|Townhouse in Amst...|  59484|      Alexander|               NULL|        Centrum-Oost|52.36407|  4.89393|   Private room|  146|             1|              347| 2023-08-22|             2.11|                             2|             172|                    8|0363 CBB3 2C10 0C...|[townhouse, in, a...|[townhouse, amste...|\n",
      "+-------+--------------------+-------+---------------+-------------------+--------------------+--------+---------+---------------+-----+--------------+-----------------+-----------+-----------------+------------------------------+----------------+---------------------+--------------------+--------------------+--------------------+\n",
      "only showing top 10 rows\n",
      "\n"
     ]
    }
   ],
   "source": [
    "# Remove stopwords using ML-LIB stopwordsremover, and store in a new column called “CleanTokens”\n",
    "remover = StopWordsRemover(inputCol=\"words\", outputCol=\"CleanTokens\")\n",
    "cleanData = remover.transform(wordData)\n",
    "cleanData.show(10)"
   ]
  },
  {
   "cell_type": "code",
   "execution_count": 23,
   "id": "79088e10",
   "metadata": {},
   "outputs": [
    {
     "name": "stdout",
     "output_type": "stream",
     "text": [
      "+-------+--------------------+-------+---------------+-------------------+--------------------+--------+---------+---------------+-----+--------------+-----------------+-----------+-----------------+------------------------------+----------------+---------------------+--------------------+--------------------+--------------------+--------------------+\n",
      "|     id|                name|host_id|      host_name|neighbourhood_group|       neighbourhood|latitude|longitude|      room_type|price|minimum_nights|number_of_reviews|last_review|reviews_per_month|calculated_host_listings_count|availability_365|number_of_reviews_ltm|             license|               words|         CleanTokens|       MyCleanTokens|\n",
      "+-------+--------------------+-------+---------------+-------------------+--------------------+--------+---------+---------------+-----+--------------+-----------------+-----------+-----------------+------------------------------+----------------+---------------------+--------------------+--------------------+--------------------+--------------------+\n",
      "| 761411|Condo in Amsterda...|4013546|         Xsjong|               NULL|          Noord-Oost|52.40164|  4.95106|   Private room|   61|             3|              303| 2023-08-19|             2.30|                             2|             272|                   26|0363 D4AD DCF3 E7...|[condo, in, amste...|[condo, amsterdam...|[condo, amsterdam...|\n",
      "| 768274|Rental unit in Am...|3678216|          J & R|               NULL|          Westerpark|52.38855|  4.88521|Entire home/apt|  327|             3|               78| 2023-08-16|             0.64|                             1|              16|                    6|0363 7A50 18E7 51...|[rental, unit, in...|[rental, unit, am...|[rental, unit, am...|\n",
      "| 768737|Boat in Amsterdam...|3877342|         Nicole|               NULL|          Westerpark|52.37824|  4.86826|   Private room|  109|             2|              341| 2023-08-24|             2.73|                             3|              29|                   43|036396BE30827DDB9575|[boat, in, amster...|[boat, amsterdam,...|[boat, amsterdam,...|\n",
      "| 771217|Houseboat in Amst...|4068486|       Danielle|               NULL|                Zuid|52.34091|  4.84802|Entire home/apt|  290|             3|               10| 2019-01-02|             0.11|                             1|               0|                    0|0363 D807 AD6C 49...|[houseboat, in, a...|[houseboat, amste...|[houseboat, amste...|\n",
      "| 771343|Rental unit in Am...|2313061|         Marcel|               NULL|        Centrum-West|52.37641|  4.88303|   Private room|  150|             1|              699| 2023-09-01|             6.62|                             2|             196|                  110|0363 8C61 E9B9 55...|[rental, unit, in...|[rental, unit, am...|[rental, unit, am...|\n",
      "| 771758|Bed and breakfast...| 195859|         Gianni|               NULL|         Slotervaart|52.34985|  4.83578|   Private room|   75|             2|              278| 2023-08-20|             2.20|                             2|             290|                   64|0363 BCBA 6311 32...|[bed, and, breakf...|[bed, breakfast, ...|[bed, and, breakf...|\n",
      "| 775655|Rental unit in Am...|4091515|          Karin|               NULL|        Centrum-Oost|52.37026|  4.89931|   Private room|  159|             2|              465| 2023-08-21|             3.54|                             2|             338|                   49|0363 E246 20B0 E6...|[rental, unit, in...|[rental, unit, am...|[rental, unit, am...|\n",
      "|1086763|Bed and breakfast...|3899684|City Apartments|               NULL|        Centrum-Oost|52.36256|  4.89809|   Private room|  221|             3|               41| 2023-05-30|             0.38|                             4|             138|                   15|0363 3D40 C88D 9D...|[bed, and, breakf...|[bed, breakfast, ...|[bed, and, breakf...|\n",
      "|   2818|Condo in Amsterda...|   3159|         Daniel|               NULL|Oostelijk Havenge...|52.36435|  4.94358|   Private room|   69|             3|              354| 2023-08-31|             2.01|                             1|               7|                   49|0363 5F3A 5684 67...|[condo, in, amste...|[condo, amsterdam...|[condo, amsterdam...|\n",
      "|  20168|Townhouse in Amst...|  59484|      Alexander|               NULL|        Centrum-Oost|52.36407|  4.89393|   Private room|  146|             1|              347| 2023-08-22|             2.11|                             2|             172|                    8|0363 CBB3 2C10 0C...|[townhouse, in, a...|[townhouse, amste...|[townhouse, amste...|\n",
      "+-------+--------------------+-------+---------------+-------------------+--------------------+--------+---------+---------------+-----+--------------+-----------------+-----------+-----------------+------------------------------+----------------+---------------------+--------------------+--------------------+--------------------+--------------------+\n",
      "only showing top 10 rows\n",
      "\n"
     ]
    }
   ],
   "source": [
    "# But we don’t have a stopwordsremover for all language and contexts.\n",
    "# Create your own list of stopwords from this text (think: what is a stopword?)\n",
    "# Remove stopwords again, and store in column “MyCleanTokens”\n",
    "remover = StopWordsRemover(stopWords=['the', 'a', 'an', 'another', \"for\", \"an\", \"nor\", \"but\", \"or\", \"yet\", \"so\", \n",
    "                                      \"in\", \"under\", \"towards\", \"before\"], inputCol='words', outputCol='MyCleanTokens')\n",
    "cleanData = remover.transform(cleanData)\n",
    "cleanData.show(10)"
   ]
  },
  {
   "cell_type": "code",
   "execution_count": 24,
   "id": "ba62a4d0",
   "metadata": {},
   "outputs": [
    {
     "name": "stdout",
     "output_type": "stream",
     "text": [
      "+--------------------+--------------------+\n",
      "|       MyCleanTokens|            features|\n",
      "+--------------------+--------------------+\n",
      "|[condo, amsterdam...|(20,[1,2,7,10,11,...|\n",
      "|[rental, unit, am...|(20,[1,2,5,11,12,...|\n",
      "|[boat, amsterdam,...|(20,[0,1,2,5,11,1...|\n",
      "|[houseboat, amste...|(20,[0,1,5,6,11,1...|\n",
      "|[rental, unit, am...|(20,[1,2,9,11,12,...|\n",
      "|[bed, and, breakf...|(20,[0,1,2,7,11,1...|\n",
      "|[rental, unit, am...|(20,[1,2,11,14,15...|\n",
      "|[bed, and, breakf...|(20,[0,1,2,11,12,...|\n",
      "|[condo, amsterdam...|(20,[0,1,2,5,7,10...|\n",
      "|[townhouse, amste...|(20,[1,2,8,11,12,...|\n",
      "+--------------------+--------------------+\n",
      "only showing top 10 rows\n",
      "\n"
     ]
    }
   ],
   "source": [
    "# Perform TFIDF in a new column called “VectorSpace”\n",
    "hashingTF = HashingTF(inputCol=\"MyCleanTokens\", outputCol=\"VectorSpace\", numFeatures=20)\n",
    "featurizedData = hashingTF.transform(cleanData)\n",
    "\n",
    "idf = IDF(inputCol=\"VectorSpace\", outputCol=\"features\")\n",
    "idfModel = idf.fit(featurizedData)\n",
    "results = idfModel.transform(featurizedData)\n",
    "\n",
    "results.select(\"MyCleanTokens\", \"features\").show(10)"
   ]
  },
  {
   "cell_type": "markdown",
   "id": "31413af3",
   "metadata": {},
   "source": [
    "## Homework (Optional)"
   ]
  },
  {
   "cell_type": "code",
   "execution_count": 25,
   "id": "79972b1b",
   "metadata": {},
   "outputs": [
    {
     "name": "stdout",
     "output_type": "stream",
     "text": [
      "+--------------------+--------------------+\n",
      "|       MyCleanTokens|            word2vec|\n",
      "+--------------------+--------------------+\n",
      "|[condo, amsterdam...|[0.00846870935388...|\n",
      "|[rental, unit, am...|[-0.0800861247948...|\n",
      "|[boat, amsterdam,...|[-0.0027433656729...|\n",
      "|[houseboat, amste...|[-0.2136970145556...|\n",
      "|[rental, unit, am...|[-0.1120799005031...|\n",
      "|[bed, and, breakf...|[0.09851416200399...|\n",
      "|[rental, unit, am...|[-0.0722905439989...|\n",
      "|[bed, and, breakf...|[0.01148741978865...|\n",
      "|[condo, amsterdam...|[-0.0839317339871...|\n",
      "|[townhouse, amste...|[-0.0639541620122...|\n",
      "+--------------------+--------------------+\n",
      "only showing top 10 rows\n",
      "\n"
     ]
    }
   ],
   "source": [
    "# In a new column(‘word2vec’), repeat the procedure using word2vec instead of TF-IDF.\n",
    "# https://spark.apache.org/docs/2.2.0/mllib-feature-extraction.html#word2vec\n",
    "\n",
    "from pyspark.ml.feature import Word2Vec\n",
    "\n",
    "word2Vec = Word2Vec(vectorSize=20, minCount=0, inputCol=\"MyCleanTokens\", outputCol=\"word2vec\")\n",
    "model = word2Vec.fit(results)\n",
    "result = model.transform(results)\n",
    "\n",
    "result.select(\"MyCleanTokens\", \"word2vec\").show(10)"
   ]
  },
  {
   "cell_type": "code",
   "execution_count": 26,
   "id": "d77f3c33",
   "metadata": {},
   "outputs": [
    {
     "data": {
      "text/plain": [
       "Row(word2vec=DenseVector([0.0085, 0.0896, 0.0188, -0.011, -0.7019, 0.0164, -0.08, 0.181, -0.1832, -0.0382, -0.1302, 0.249, -0.2939, -0.4009, -0.4478, -0.16, 0.1739, -0.1798, -0.3863, 0.0576]))"
      ]
     },
     "execution_count": 26,
     "metadata": {},
     "output_type": "execute_result"
    }
   ],
   "source": [
    "# show first row word2vec vector\n",
    "result.select(\"word2vec\").first()"
   ]
  },
  {
   "cell_type": "markdown",
   "id": "5d31bd2a",
   "metadata": {},
   "source": [
    "## Challenge II"
   ]
  },
  {
   "cell_type": "code",
   "execution_count": 29,
   "id": "49bba636",
   "metadata": {},
   "outputs": [
    {
     "data": {
      "text/plain": [
       "500"
      ]
     },
     "execution_count": 29,
     "metadata": {},
     "output_type": "execute_result"
    }
   ],
   "source": [
    "# Take the first 500 flats in the list\n",
    "# Mysample = df.limit(500)\n",
    "\n",
    "mysample = result.limit(500)\n",
    "mysample.count()"
   ]
  },
  {
   "cell_type": "code",
   "execution_count": 13,
   "id": "fc90bd14",
   "metadata": {},
   "outputs": [
    {
     "ename": "ModuleNotFoundError",
     "evalue": "No module named 'sklearn'",
     "output_type": "error",
     "traceback": [
      "\u001b[0;31m---------------------------------------------------------------------------\u001b[0m",
      "\u001b[0;31mModuleNotFoundError\u001b[0m                       Traceback (most recent call last)",
      "\u001b[1;32m/Users/nazardrushchak/Documents/універ/MSc_Data_Science/MMDB/MMDB_HW_2023/Untitled.ipynb Cell 20\u001b[0m line \u001b[0;36m3\n\u001b[1;32m      <a href='vscode-notebook-cell:/Users/nazardrushchak/Documents/%D1%83%D0%BD%D1%96%D0%B2%D0%B5%D1%80/MSc_Data_Science/MMDB/MMDB_HW_2023/Untitled.ipynb#X34sZmlsZQ%3D%3D?line=0'>1</a>\u001b[0m \u001b[39m# Find the 3 nearest neighbors for each element in that subset (candidates and query points are within the sample of 500) \u001b[39;00m\n\u001b[1;32m      <a href='vscode-notebook-cell:/Users/nazardrushchak/Documents/%D1%83%D0%BD%D1%96%D0%B2%D0%B5%D1%80/MSc_Data_Science/MMDB/MMDB_HW_2023/Untitled.ipynb#X34sZmlsZQ%3D%3D?line=1'>2</a>\u001b[0m \u001b[39m# USING KNN\u001b[39;00m\n\u001b[0;32m----> <a href='vscode-notebook-cell:/Users/nazardrushchak/Documents/%D1%83%D0%BD%D1%96%D0%B2%D0%B5%D1%80/MSc_Data_Science/MMDB/MMDB_HW_2023/Untitled.ipynb#X34sZmlsZQ%3D%3D?line=2'>3</a>\u001b[0m \u001b[39mfrom\u001b[39;00m \u001b[39msklearn\u001b[39;00m\u001b[39m.\u001b[39;00m\u001b[39mneighbors\u001b[39;00m \u001b[39mimport\u001b[39;00m NearestNeighbors\n\u001b[1;32m      <a href='vscode-notebook-cell:/Users/nazardrushchak/Documents/%D1%83%D0%BD%D1%96%D0%B2%D0%B5%D1%80/MSc_Data_Science/MMDB/MMDB_HW_2023/Untitled.ipynb#X34sZmlsZQ%3D%3D?line=4'>5</a>\u001b[0m mysample_pd \u001b[39m=\u001b[39m mysample\u001b[39m.\u001b[39mtoPandas()\n\u001b[1;32m      <a href='vscode-notebook-cell:/Users/nazardrushchak/Documents/%D1%83%D0%BD%D1%96%D0%B2%D0%B5%D1%80/MSc_Data_Science/MMDB/MMDB_HW_2023/Untitled.ipynb#X34sZmlsZQ%3D%3D?line=5'>6</a>\u001b[0m tfidf \u001b[39m=\u001b[39m mysample_pd[\u001b[39m'\u001b[39m\u001b[39mfeatures\u001b[39m\u001b[39m'\u001b[39m]\u001b[39m.\u001b[39mtolist()\n",
      "\u001b[0;31mModuleNotFoundError\u001b[0m: No module named 'sklearn'"
     ]
    }
   ],
   "source": [
    "# Find the 3 nearest neighbors for each element in that subset (candidates and query points are within the sample of 500) \n",
    "# USING KNN\n",
    "from sklearn.neighbors import NearestNeighbors\n",
    "\n",
    "mysample_pd = mysample.toPandas()\n",
    "tfidf = mysample_pd['features'].tolist()\n",
    "text = mysample_pd['name'].tolist()\n",
    "id_ = mysample_pd['id'].tolist()\n",
    "\n",
    "# fit nearest neighbors\n",
    "nbrs = NearestNeighbors(n_neighbors=4).fit(tfidf)\n",
    "distances, indices = nbrs.kneighbors(tfidf[:5])\n",
    "\n",
    "# show 3 nearest neighbors for first row except itself\n",
    "print('id', [id_[i] for i in indices[0]])"
   ]
  },
  {
   "cell_type": "code",
   "execution_count": null,
   "id": "a759685f",
   "metadata": {},
   "outputs": [
    {
     "ename": "ImportError",
     "evalue": "cannot import name 'LSHForest' from 'sklearn.neighbors' (/opt/conda/lib/python3.11/site-packages/sklearn/neighbors/__init__.py)",
     "output_type": "error",
     "traceback": [
      "\u001b[0;31m---------------------------------------------------------------------------\u001b[0m",
      "\u001b[0;31mImportError\u001b[0m                               Traceback (most recent call last)",
      "\u001b[1;32m/Users/nazardrushchak/Documents/універ/MSc_Data_Science/MMDB/MMDB_HW_2023/Untitled.ipynb Cell 19\u001b[0m line \u001b[0;36m3\n\u001b[1;32m      <a href='vscode-notebook-cell:/Users/nazardrushchak/Documents/%D1%83%D0%BD%D1%96%D0%B2%D0%B5%D1%80/MSc_Data_Science/MMDB/MMDB_HW_2023/Untitled.ipynb#X46sZmlsZQ%3D%3D?line=0'>1</a>\u001b[0m \u001b[39m# Find the 3 nearest neighbors for each element in that subset (candidates and query points are within the sample of 500) \u001b[39;00m\n\u001b[1;32m      <a href='vscode-notebook-cell:/Users/nazardrushchak/Documents/%D1%83%D0%BD%D1%96%D0%B2%D0%B5%D1%80/MSc_Data_Science/MMDB/MMDB_HW_2023/Untitled.ipynb#X46sZmlsZQ%3D%3D?line=1'>2</a>\u001b[0m \u001b[39m# USING LSH with sklearn\u001b[39;00m\n\u001b[0;32m----> <a href='vscode-notebook-cell:/Users/nazardrushchak/Documents/%D1%83%D0%BD%D1%96%D0%B2%D0%B5%D1%80/MSc_Data_Science/MMDB/MMDB_HW_2023/Untitled.ipynb#X46sZmlsZQ%3D%3D?line=2'>3</a>\u001b[0m \u001b[39mfrom\u001b[39;00m \u001b[39msklearn\u001b[39;00m\u001b[39m.\u001b[39;00m\u001b[39mneighbors\u001b[39;00m \u001b[39mimport\u001b[39;00m LSHForest\n\u001b[1;32m      <a href='vscode-notebook-cell:/Users/nazardrushchak/Documents/%D1%83%D0%BD%D1%96%D0%B2%D0%B5%D1%80/MSc_Data_Science/MMDB/MMDB_HW_2023/Untitled.ipynb#X46sZmlsZQ%3D%3D?line=4'>5</a>\u001b[0m mysample_pd \u001b[39m=\u001b[39m mysample\u001b[39m.\u001b[39mtoPandas()\n\u001b[1;32m      <a href='vscode-notebook-cell:/Users/nazardrushchak/Documents/%D1%83%D0%BD%D1%96%D0%B2%D0%B5%D1%80/MSc_Data_Science/MMDB/MMDB_HW_2023/Untitled.ipynb#X46sZmlsZQ%3D%3D?line=5'>6</a>\u001b[0m tfidf \u001b[39m=\u001b[39m mysample_pd[\u001b[39m'\u001b[39m\u001b[39mfeatures\u001b[39m\u001b[39m'\u001b[39m]\u001b[39m.\u001b[39mtolist()\n",
      "\u001b[0;31mImportError\u001b[0m: cannot import name 'LSHForest' from 'sklearn.neighbors' (/opt/conda/lib/python3.11/site-packages/sklearn/neighbors/__init__.py)"
     ]
    }
   ],
   "source": [
    "# Find the 3 nearest neighbors for each element in that subset (candidates and query points are within the sample of 500) \n",
    "# USING LSH with sklearn\n",
    "\n",
    "# IT IS DEPRECATED\n",
    "from sklearn.neighbors import LSHForest\n",
    "\n",
    "mysample_pd = mysample.toPandas()\n",
    "tfidf = mysample_pd['features'].tolist()\n",
    "text = mysample_pd['name'].tolist()\n",
    "id_ = mysample_pd['id'].tolist()\n",
    "\n",
    "lshf = LSHForest(random_state=42)\n",
    "lshf.fit(tfidf)\n",
    "\n",
    "# get the feature vectore of the first row\n",
    "query = tfidf[0]\n",
    "id_ = id_[0]\n",
    "\n",
    "# show 3 nearest neighbors for first row except itself\n",
    "distances, indices = lshf.kneighbors([query], n_neighbors=4)\n",
    "for i in range(1, len(distances[0])):\n",
    "    print(\"distance: \", distances[0][i], \"id: \", id_[indices[0][i]])\n",
    "    "
   ]
  },
  {
   "cell_type": "code",
   "execution_count": 30,
   "id": "fb01e17c",
   "metadata": {},
   "outputs": [
    {
     "name": "stdout",
     "output_type": "stream",
     "text": [
      "+-------+--------------------+-------+----------------+-------------------+-------------+--------+---------+---------------+-----+--------------+-----------------+-----------+-----------------+------------------------------+----------------+---------------------+--------------------+--------------------+--------------------+--------------------+--------------------+--------------------+--------------------+--------------------+------------------+\n",
      "|     id|                name|host_id|       host_name|neighbourhood_group|neighbourhood|latitude|longitude|      room_type|price|minimum_nights|number_of_reviews|last_review|reviews_per_month|calculated_host_listings_count|availability_365|number_of_reviews_ltm|             license|               words|         CleanTokens|       MyCleanTokens|         VectorSpace|            features|            word2vec|              hashes|           distCol|\n",
      "+-------+--------------------+-------+----------------+-------------------+-------------+--------+---------+---------------+-----+--------------+-----------------+-----------+-----------------+------------------------------+----------------+---------------------+--------------------+--------------------+--------------------+--------------------+--------------------+--------------------+--------------------+--------------------+------------------+\n",
      "|1447217|Condo in Amsterda...|7767867|Martijn & Betina|               NULL|Bos en Lommer|52.37591|   4.8479|   Private room|  110|             7|              290| 2023-08-06|             2.40|                             1|              62|                   19|0363 D931 EAD5 9D...|[condo, in, amste...|[condo, amsterdam...|[condo, amsterdam...|(20,[1,2,7,10,11,...|(20,[1,2,7,10,11,...|[0.00259175736989...|[[3.3611253E7], [...|0.1428571428571429|\n",
      "|2175600|Loft in Amsterdam...|6630741|    Marie-Sophie|               NULL|         Zuid|52.35469|  4.85663|Entire home/apt|  190|             1|              115| 2023-07-09|             1.02|                             1|             233|                    6|0363 593F 238D 56...|[loft, in, amster...|[loft, amsterdam,...|[loft, amsterdam,...|(20,[1,2,7,10,11,...|(20,[1,2,7,10,11,...|[-0.0059954071274...|[[3.3611253E7], [...|0.1428571428571429|\n",
      "| 721291|Condo in Amsterda...|3723928|        Katarina|               NULL|   Westerpark|52.37752|  4.87086|   Private room|   79|             2|              209| 2023-08-12|             1.58|                             1|             165|                   10|0363 0457 C25F CA...|[condo, in, amste...|[condo, amsterdam...|[condo, amsterdam...|(20,[1,2,7,10,11,...|(20,[1,2,7,10,11,...|[-0.0857280551322...|[[1.77815778E8], ...|              0.25|\n",
      "+-------+--------------------+-------+----------------+-------------------+-------------+--------+---------+---------------+-----+--------------+-----------------+-----------+-----------------+------------------------------+----------------+---------------------+--------------------+--------------------+--------------------+--------------------+--------------------+--------------------+--------------------+--------------------+------------------+\n",
      "\n"
     ]
    }
   ],
   "source": [
    "# Find the 3 nearest neighbors for each element in that subset (candidates and query points are within the sample of 500) \n",
    "# USING LSH with pyspark\n",
    "from pyspark.ml.feature import MinHashLSH\n",
    "\n",
    "mh = MinHashLSH(inputCol=\"features\", outputCol=\"hashes\", numHashTables=3)\n",
    "model = mh.fit(mysample)\n",
    "\n",
    "# get the feature vectore of the first row\n",
    "key =  mysample.select(\"features\").take(1)[0].features\n",
    "id_ = mysample.select(\"id\").take(1)[0].id\n",
    "\n",
    "\n",
    "# show 3 nearest neighbors for first row except itself\n",
    "model.approxNearestNeighbors(mysample, key, 4).filter(col(\"id\") != id_).show()\n",
    "\n"
   ]
  },
  {
   "cell_type": "markdown",
   "id": "8f36b16b",
   "metadata": {},
   "source": [
    "## Challenge III: Homework"
   ]
  },
  {
   "cell_type": "code",
   "execution_count": 32,
   "id": "91a78407",
   "metadata": {},
   "outputs": [],
   "source": [
    "# Repeat the LSH experiment for the full Barcelona dataset, and develop and spark boosted\n",
    "# methodology to have an efficient parameter tuning process.\n"
   ]
  },
  {
   "cell_type": "code",
   "execution_count": null,
   "id": "907808dc",
   "metadata": {},
   "outputs": [],
   "source": [
    "\n"
   ]
  }
 ],
 "metadata": {
  "kernelspec": {
   "display_name": "Python 3 (ipykernel)",
   "language": "python",
   "name": "python3"
  },
  "language_info": {
   "codemirror_mode": {
    "name": "ipython",
    "version": 3
   },
   "file_extension": ".py",
   "mimetype": "text/x-python",
   "name": "python",
   "nbconvert_exporter": "python",
   "pygments_lexer": "ipython3",
   "version": "3.11.6"
  }
 },
 "nbformat": 4,
 "nbformat_minor": 5
}
